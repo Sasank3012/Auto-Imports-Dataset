{
  "cells": [
    {
      "cell_type": "code",
      "execution_count": 2,
      "id": "7e4f0208",
      "metadata": {
        "id": "7e4f0208"
      },
      "outputs": [],
      "source": [
        "from scipy import stats\n",
        "from sklearn.linear_model import LinearRegression\n",
        "from statsmodels.compat import lzip\n",
        "from statsmodels.formula.api import ols\n",
        "from statsmodels.stats.anova import anova_lm \n",
        "from sklearn.metrics import accuracy_score\n",
        "from statsmodels.stats.outliers_influence import variance_inflation_factor\n",
        "import matplotlib\n",
        "import matplotlib.pyplot as plt\n",
        "import numpy as np\n",
        "import pandas as pd\n",
        "import seaborn as sns\n",
        "import statsmodels.api as sm\n",
        "\n",
        "%matplotlib inline"
      ]
    },
    {
      "cell_type": "code",
      "execution_count": 3,
      "id": "f76dd56a",
      "metadata": {
        "colab": {
          "base_uri": "https://localhost:8080/",
          "height": 270
        },
        "id": "f76dd56a",
        "outputId": "6a08c69d-9e51-4727-f614-de202025be2d"
      },
      "outputs": [
        {
          "data": {
            "text/html": [
              "\n",
              "  <div id=\"df-0ff96ce9-6ce8-46ea-b0de-25463594126a\">\n",
              "    <div class=\"colab-df-container\">\n",
              "      <div>\n",
              "<style scoped>\n",
              "    .dataframe tbody tr th:only-of-type {\n",
              "        vertical-align: middle;\n",
              "    }\n",
              "\n",
              "    .dataframe tbody tr th {\n",
              "        vertical-align: top;\n",
              "    }\n",
              "\n",
              "    .dataframe thead th {\n",
              "        text-align: right;\n",
              "    }\n",
              "</style>\n",
              "<table border=\"1\" class=\"dataframe\">\n",
              "  <thead>\n",
              "    <tr style=\"text-align: right;\">\n",
              "      <th></th>\n",
              "      <th>fuel_type</th>\n",
              "      <th>body</th>\n",
              "      <th>wheel_base</th>\n",
              "      <th>length</th>\n",
              "      <th>width</th>\n",
              "      <th>heights</th>\n",
              "      <th>curb_weight</th>\n",
              "      <th>engine_type</th>\n",
              "      <th>cylinders</th>\n",
              "      <th>engine_size</th>\n",
              "      <th>bore</th>\n",
              "      <th>stroke</th>\n",
              "      <th>compression</th>\n",
              "      <th>horse_power</th>\n",
              "      <th>peak_rpm</th>\n",
              "      <th>city_mpg</th>\n",
              "      <th>highway_mpg</th>\n",
              "      <th>price</th>\n",
              "    </tr>\n",
              "  </thead>\n",
              "  <tbody>\n",
              "    <tr>\n",
              "      <th>0</th>\n",
              "      <td>gas</td>\n",
              "      <td>convertible</td>\n",
              "      <td>88.6</td>\n",
              "      <td>168.8</td>\n",
              "      <td>64.1</td>\n",
              "      <td>48.8</td>\n",
              "      <td>2548</td>\n",
              "      <td>dohc</td>\n",
              "      <td>four</td>\n",
              "      <td>130</td>\n",
              "      <td>3.47</td>\n",
              "      <td>2.68</td>\n",
              "      <td>9.0</td>\n",
              "      <td>111</td>\n",
              "      <td>5000</td>\n",
              "      <td>21</td>\n",
              "      <td>27</td>\n",
              "      <td>13495</td>\n",
              "    </tr>\n",
              "    <tr>\n",
              "      <th>1</th>\n",
              "      <td>gas</td>\n",
              "      <td>convertible</td>\n",
              "      <td>88.6</td>\n",
              "      <td>168.8</td>\n",
              "      <td>64.1</td>\n",
              "      <td>48.8</td>\n",
              "      <td>2548</td>\n",
              "      <td>dohc</td>\n",
              "      <td>four</td>\n",
              "      <td>130</td>\n",
              "      <td>3.47</td>\n",
              "      <td>2.68</td>\n",
              "      <td>9.0</td>\n",
              "      <td>111</td>\n",
              "      <td>5000</td>\n",
              "      <td>21</td>\n",
              "      <td>27</td>\n",
              "      <td>16500</td>\n",
              "    </tr>\n",
              "    <tr>\n",
              "      <th>2</th>\n",
              "      <td>gas</td>\n",
              "      <td>hatchback</td>\n",
              "      <td>94.5</td>\n",
              "      <td>171.2</td>\n",
              "      <td>65.5</td>\n",
              "      <td>52.4</td>\n",
              "      <td>2823</td>\n",
              "      <td>ohcv</td>\n",
              "      <td>six</td>\n",
              "      <td>152</td>\n",
              "      <td>2.68</td>\n",
              "      <td>3.47</td>\n",
              "      <td>9.0</td>\n",
              "      <td>154</td>\n",
              "      <td>5000</td>\n",
              "      <td>19</td>\n",
              "      <td>26</td>\n",
              "      <td>16500</td>\n",
              "    </tr>\n",
              "    <tr>\n",
              "      <th>3</th>\n",
              "      <td>gas</td>\n",
              "      <td>sedan</td>\n",
              "      <td>99.8</td>\n",
              "      <td>176.6</td>\n",
              "      <td>66.2</td>\n",
              "      <td>54.3</td>\n",
              "      <td>2337</td>\n",
              "      <td>ohc</td>\n",
              "      <td>four</td>\n",
              "      <td>109</td>\n",
              "      <td>3.19</td>\n",
              "      <td>3.4</td>\n",
              "      <td>10.0</td>\n",
              "      <td>102</td>\n",
              "      <td>5500</td>\n",
              "      <td>24</td>\n",
              "      <td>30</td>\n",
              "      <td>13950</td>\n",
              "    </tr>\n",
              "    <tr>\n",
              "      <th>4</th>\n",
              "      <td>gas</td>\n",
              "      <td>sedan</td>\n",
              "      <td>99.4</td>\n",
              "      <td>176.6</td>\n",
              "      <td>66.4</td>\n",
              "      <td>54.3</td>\n",
              "      <td>2824</td>\n",
              "      <td>ohc</td>\n",
              "      <td>five</td>\n",
              "      <td>136</td>\n",
              "      <td>3.19</td>\n",
              "      <td>3.4</td>\n",
              "      <td>8.0</td>\n",
              "      <td>115</td>\n",
              "      <td>5500</td>\n",
              "      <td>18</td>\n",
              "      <td>22</td>\n",
              "      <td>17450</td>\n",
              "    </tr>\n",
              "  </tbody>\n",
              "</table>\n",
              "</div>\n",
              "      <button class=\"colab-df-convert\" onclick=\"convertToInteractive('df-0ff96ce9-6ce8-46ea-b0de-25463594126a')\"\n",
              "              title=\"Convert this dataframe to an interactive table.\"\n",
              "              style=\"display:none;\">\n",
              "        \n",
              "  <svg xmlns=\"http://www.w3.org/2000/svg\" height=\"24px\"viewBox=\"0 0 24 24\"\n",
              "       width=\"24px\">\n",
              "    <path d=\"M0 0h24v24H0V0z\" fill=\"none\"/>\n",
              "    <path d=\"M18.56 5.44l.94 2.06.94-2.06 2.06-.94-2.06-.94-.94-2.06-.94 2.06-2.06.94zm-11 1L8.5 8.5l.94-2.06 2.06-.94-2.06-.94L8.5 2.5l-.94 2.06-2.06.94zm10 10l.94 2.06.94-2.06 2.06-.94-2.06-.94-.94-2.06-.94 2.06-2.06.94z\"/><path d=\"M17.41 7.96l-1.37-1.37c-.4-.4-.92-.59-1.43-.59-.52 0-1.04.2-1.43.59L10.3 9.45l-7.72 7.72c-.78.78-.78 2.05 0 2.83L4 21.41c.39.39.9.59 1.41.59.51 0 1.02-.2 1.41-.59l7.78-7.78 2.81-2.81c.8-.78.8-2.07 0-2.86zM5.41 20L4 18.59l7.72-7.72 1.47 1.35L5.41 20z\"/>\n",
              "  </svg>\n",
              "      </button>\n",
              "      \n",
              "  <style>\n",
              "    .colab-df-container {\n",
              "      display:flex;\n",
              "      flex-wrap:wrap;\n",
              "      gap: 12px;\n",
              "    }\n",
              "\n",
              "    .colab-df-convert {\n",
              "      background-color: #E8F0FE;\n",
              "      border: none;\n",
              "      border-radius: 50%;\n",
              "      cursor: pointer;\n",
              "      display: none;\n",
              "      fill: #1967D2;\n",
              "      height: 32px;\n",
              "      padding: 0 0 0 0;\n",
              "      width: 32px;\n",
              "    }\n",
              "\n",
              "    .colab-df-convert:hover {\n",
              "      background-color: #E2EBFA;\n",
              "      box-shadow: 0px 1px 2px rgba(60, 64, 67, 0.3), 0px 1px 3px 1px rgba(60, 64, 67, 0.15);\n",
              "      fill: #174EA6;\n",
              "    }\n",
              "\n",
              "    [theme=dark] .colab-df-convert {\n",
              "      background-color: #3B4455;\n",
              "      fill: #D2E3FC;\n",
              "    }\n",
              "\n",
              "    [theme=dark] .colab-df-convert:hover {\n",
              "      background-color: #434B5C;\n",
              "      box-shadow: 0px 1px 3px 1px rgba(0, 0, 0, 0.15);\n",
              "      filter: drop-shadow(0px 1px 2px rgba(0, 0, 0, 0.3));\n",
              "      fill: #FFFFFF;\n",
              "    }\n",
              "  </style>\n",
              "\n",
              "      <script>\n",
              "        const buttonEl =\n",
              "          document.querySelector('#df-0ff96ce9-6ce8-46ea-b0de-25463594126a button.colab-df-convert');\n",
              "        buttonEl.style.display =\n",
              "          google.colab.kernel.accessAllowed ? 'block' : 'none';\n",
              "\n",
              "        async function convertToInteractive(key) {\n",
              "          const element = document.querySelector('#df-0ff96ce9-6ce8-46ea-b0de-25463594126a');\n",
              "          const dataTable =\n",
              "            await google.colab.kernel.invokeFunction('convertToInteractive',\n",
              "                                                     [key], {});\n",
              "          if (!dataTable) return;\n",
              "\n",
              "          const docLinkHtml = 'Like what you see? Visit the ' +\n",
              "            '<a target=\"_blank\" href=https://colab.research.google.com/notebooks/data_table.ipynb>data table notebook</a>'\n",
              "            + ' to learn more about interactive tables.';\n",
              "          element.innerHTML = '';\n",
              "          dataTable['output_type'] = 'display_data';\n",
              "          await google.colab.output.renderOutput(dataTable, element);\n",
              "          const docLink = document.createElement('div');\n",
              "          docLink.innerHTML = docLinkHtml;\n",
              "          element.appendChild(docLink);\n",
              "        }\n",
              "      </script>\n",
              "    </div>\n",
              "  </div>\n",
              "  "
            ],
            "text/plain": [
              "  fuel_type         body  wheel_base  length  width  heights  curb_weight  \\\n",
              "0       gas  convertible        88.6   168.8   64.1     48.8         2548   \n",
              "1       gas  convertible        88.6   168.8   64.1     48.8         2548   \n",
              "2       gas    hatchback        94.5   171.2   65.5     52.4         2823   \n",
              "3       gas        sedan        99.8   176.6   66.2     54.3         2337   \n",
              "4       gas        sedan        99.4   176.6   66.4     54.3         2824   \n",
              "\n",
              "  engine_type cylinders  engine_size  bore stroke  compression horse_power  \\\n",
              "0        dohc      four          130  3.47   2.68          9.0         111   \n",
              "1        dohc      four          130  3.47   2.68          9.0         111   \n",
              "2        ohcv       six          152  2.68   3.47          9.0         154   \n",
              "3         ohc      four          109  3.19    3.4         10.0         102   \n",
              "4         ohc      five          136  3.19    3.4          8.0         115   \n",
              "\n",
              "  peak_rpm  city_mpg  highway_mpg  price  \n",
              "0     5000        21           27  13495  \n",
              "1     5000        21           27  16500  \n",
              "2     5000        19           26  16500  \n",
              "3     5500        24           30  13950  \n",
              "4     5500        18           22  17450  "
            ]
          },
          "execution_count": 3,
          "metadata": {},
          "output_type": "execute_result"
        }
      ],
      "source": [
        "df =pd.read_csv(\"auto_imports1.csv\")\n",
        "\n",
        "df.head()"
      ]
    },
    {
      "cell_type": "code",
      "execution_count": 4,
      "id": "193cd051",
      "metadata": {
        "colab": {
          "base_uri": "https://localhost:8080/",
          "height": 174
        },
        "id": "193cd051",
        "outputId": "05b2a515-7870-48f1-cb42-6d38d91f67d9"
      },
      "outputs": [
        {
          "data": {
            "application/vnd.google.colaboratory.intrinsic+json": {
              "type": "string"
            },
            "text/plain": [
              "'    fuel_type         body  wheel_base  length  width  heights  curb_weight engine_type cylinders  engine_size  bore stroke  compression horse_power peak_rpm  city_mpg  highway_mpg  price\\n0         gas  convertible        88.6   168.8   64.1     48.8         2548        dohc      four          130  3.47   2.68         9.00         111     5000        21           27  13495\\n1         gas  convertible        88.6   168.8   64.1     48.8         2548        dohc      four          130  3.47   2.68         9.00         111     5000        21           27  16500\\n2         gas    hatchback        94.5   171.2   65.5     52.4         2823        ohcv       six          152  2.68   3.47         9.00         154     5000        19           26  16500\\n3         gas        sedan        99.8   176.6   66.2     54.3         2337         ohc      four          109  3.19    3.4        10.00         102     5500        24           30  13950\\n4         gas        sedan        99.4   176.6   66.4     54.3         2824         ohc      five          136  3.19    3.4         8.00         115     5500        18           22  17450\\n5         gas        sedan        99.8   177.3   66.3     53.1         2507         ohc      five          136  3.19    3.4         8.50         110     5500        19           25  15250\\n6         gas        sedan       105.8   192.7   71.4     55.7         2844         ohc      five          136  3.19    3.4         8.50         110     5500        19           25  17710\\n7         gas        wagon       105.8   192.7   71.4     55.7         2954         ohc      five          136  3.19    3.4         8.50         110     5500        19           25  18920\\n8         gas        sedan       105.8   192.7   71.4     55.9         3086         ohc      five          131  3.13    3.4         8.30         140     5500        17           20  23875\\n9         gas        sedan       101.2   176.8   64.8     54.3         2395         ohc      four          108   3.5    2.8         8.80         101     5800        23           29  16430\\n10        gas        sedan       101.2   176.8   64.8     54.3         2395         ohc      four          108   3.5    2.8         8.80         101     5800        23           29  16925\\n11        gas        sedan       101.2   176.8   64.8     54.3         2710         ohc       six          164  3.31   3.19         9.00         121     4250        21           28  20970\\n12        gas        sedan       101.2   176.8   64.8     54.3         2765         ohc       six          164  3.31   3.19         9.00         121     4250        21           28  21105\\n13        gas        sedan       103.5   189.0   66.9     55.7         3055         ohc       six          164  3.31   3.19         9.00         121     4250        20           25  24565\\n14        gas        sedan       103.5   189.0   66.9     55.7         3230         ohc       six          209  3.62   3.39         8.00         182     5400        16           22  30760\\n15        gas        sedan       103.5   193.8   67.9     53.7         3380         ohc       six          209  3.62   3.39         8.00         182     5400        16           22  41315\\n16        gas        sedan       110.0   197.0   70.9     56.3         3505         ohc       six          209  3.62   3.39         8.00         182     5400        15           20  36880\\n17        gas    hatchback        88.4   141.1   60.3     53.2         1488           l     three           61  2.91   3.03         9.50          48     5100        47           53   5151\\n18        gas    hatchback        94.5   155.9   63.6     52.0         1874         ohc      four           90  3.03   3.11         9.60          70     5400        38           43   6295\\n19        gas        sedan        94.5   158.8   63.6     52.0         1909         ohc      four           90  3.03   3.11         9.60          70     5400        38           43   6575\\n20        gas    hatchback        93.7   157.3   63.8     50.8         1876         ohc      four           90  2.97   3.23         9.41          68     5500        37           41   5572\\n21        gas    hatchback        93.7   157.3   63.8     50.8         1876         ohc      four           90  2.97   3.23         9.40          68     5500        31           38   6377\\n22        gas    hatchback        93.7   157.3   63.8     50.8         2128         ohc      four           98  3.03   3.39         7.60         102     5500        24           30   7957\\n23        gas    hatchback        93.7   157.3   63.8     50.6         1967         ohc      four           90  2.97   3.23         9.40          68     5500        31           38   6229\\n24        gas        sedan        93.7   157.3   63.8     50.6         1989         ohc      four           90  2.97   3.23         9.40          68     5500        31           38   6692\\n25        gas        sedan        93.7   157.3   63.8     50.6         1989         ohc      four           90  2.97   3.23         9.40          68     5500        31           38   7609\\n26        gas        sedan        93.7   157.3   63.8     50.6         2191         ohc      four           98  3.03   3.39         7.60         102     5500        24           30   8558\\n27        gas        wagon       103.3   174.6   64.6     59.8         2535         ohc      four          122  3.34   3.46         8.50          88     5000        24           30   8921\\n28        gas    hatchback        95.9   173.2   66.3     50.2         2811         ohc      four          156   3.6    3.9         7.00         145     5000        19           24  12964\\n29        gas    hatchback        86.6   144.6   63.9     50.8         1713         ohc      four           92  2.91   3.41         9.60          58     4800        49           54   6479\\n30        gas    hatchback        86.6   144.6   63.9     50.8         1819         ohc      four           92  2.91   3.41         9.20          76     6000        31           38   6855\\n31        gas    hatchback        93.7   150.0   64.0     52.6         1837         ohc      four           79  2.91   3.07        10.10          60     5500        38           42   5399\\n32        gas    hatchback        93.7   150.0   64.0     52.6         1940         ohc      four           92  2.91   3.41         9.20          76     6000        30           34   6529\\n33        gas    hatchback        93.7   150.0   64.0     52.6         1956         ohc      four           92  2.91   3.41         9.20          76     6000        30           34   7129\\n34        gas        sedan        96.5   163.4   64.0     54.5         2010         ohc      four           92  2.91   3.41         9.20          76     6000        30           34   7295\\n35        gas        wagon        96.5   157.1   63.9     58.3         2024         ohc      four           92  2.92   3.41         9.20          76     6000        30           34   7295\\n36        gas    hatchback        96.5   167.5   65.2     53.3         2236         ohc      four          110  3.15   3.58         9.00          86     5800        27           33   7895\\n37        gas    hatchback        96.5   167.5   65.2     53.3         2289         ohc      four          110  3.15   3.58         9.00          86     5800        27           33   9095\\n38        gas        sedan        96.5   175.4   65.2     54.1         2304         ohc      four          110  3.15   3.58         9.00          86     5800        27           33   8845\\n39        gas        sedan        96.5   175.4   62.5     54.1         2372         ohc      four          110  3.15   3.58         9.00          86     5800        27           33  10295\\n40        gas        sedan        96.5   175.4   65.2     54.1         2465         ohc      four          110  3.15   3.58         9.00         101     5800        24           28  12945\\n41        gas        sedan        96.5   169.1   66.0     51.0         2293         ohc      four          110  3.15   3.58         9.10         100     5500        25           31  10345\\n42        gas        sedan        94.3   170.7   61.8     53.5         2337         ohc      four          111  3.31   3.23         8.50          78     4800        24           29   6785\\n43        gas    hatchback        96.0   172.6   65.2     51.4         2734         ohc      four          119  3.43   3.23         9.20          90     5000        24           29  11048\\n44        gas        sedan       113.0   199.6   69.6     52.8         4066        dohc       six          258  3.63   4.17         8.10         176     4750        15           19  32250\\n45        gas        sedan       113.0   199.6   69.6     52.8         4066        dohc       six          258  3.63   4.17         8.10         176     4750        15           19  35550\\n46        gas        sedan       102.0   191.7   70.6     47.8         3950        ohcv    twelve          326  3.54   2.76        11.50         262     5000        13           17  36000\\n47        gas    hatchback        93.1   159.1   64.2     54.1         1890         ohc      four           91  3.03   3.15         9.00          68     5000        30           31   5195\\n48        gas    hatchback        93.1   159.1   64.2     54.1         1900         ohc      four           91  3.03   3.15         9.00          68     5000        31           38   6095\\n49        gas    hatchback        93.1   159.1   64.2     54.1         1905         ohc      four           91  3.03   3.15         9.00          68     5000        31           38   6795\\n50        gas        sedan        93.1   166.8   64.2     54.1         1945         ohc      four           91  3.03   3.15         9.00          68     5000        31           38   6695\\n51        gas        sedan        93.1   166.8   64.2     54.1         1950         ohc      four           91  3.08   3.15         9.00          68     5000        31           38   7395\\n52        gas    hatchback        95.3   169.0   65.7     49.6         2380       rotor       two           70  None   None         9.40         101     6000        17           23  10945\\n53        gas    hatchback        95.3   169.0   65.7     49.6         2380       rotor       two           70  None   None         9.40         101     6000        17           23  11845\\n54        gas    hatchback        95.3   169.0   65.7     49.6         2385       rotor       two           70  None   None         9.40         101     6000        17           23  13645\\n55        gas    hatchback        95.3   169.0   65.7     49.6         2500       rotor       two           80  None   None         9.40         135     6000        16           23  15645\\n56        gas    hatchback        98.8   177.8   66.5     53.7         2385         ohc      four          122  3.39   3.39         8.60          84     4800        26           32   8845\\n57        gas        sedan        98.8   177.8   66.5     55.5         2410         ohc      four          122  3.39   3.39         8.60          84     4800        26           32   8495\\n58        gas    hatchback        98.8   177.8   66.5     53.7         2385         ohc      four          122  3.39   3.39         8.60          84     4800        26           32  10595\\n59        gas        sedan        98.8   177.8   66.5     55.5         2410         ohc      four          122  3.39   3.39         8.60          84     4800        26           32  10245\\n60     diesel        sedan        98.8   177.8   66.5     55.5         2443         ohc      four          122  3.39   3.39        22.70          64     4650        36           42  10795\\n61        gas    hatchback        98.8   177.8   66.5     55.5         2425         ohc      four          122  3.39   3.39         8.60          84     4800        26           32  11245\\n62        gas        sedan       104.9   175.0   66.1     54.4         2670         ohc      four          140  3.76   3.16         8.00         120     5000        19           27  18280\\n63     diesel        sedan       104.9   175.0   66.1     54.4         2700         ohc      four          134  3.43   3.64        22.00          72     4200        31           39  18344\\n64     diesel        sedan       110.0   190.9   70.3     56.5         3515         ohc      five          183  3.58   3.64        21.50         123     4350        22           25  25552\\n65     diesel        wagon       110.0   190.9   70.3     58.7         3750         ohc      five          183  3.58   3.64        21.50         123     4350        22           25  28248\\n66     diesel      hardtop       106.7   187.5   70.3     54.9         3495         ohc      five          183  3.58   3.64        21.50         123     4350        22           25  28176\\n67     diesel        sedan       115.6   202.6   71.7     56.3         3770         ohc      five          183  3.58   3.64        21.50         123     4350        22           25  31600\\n68        gas        sedan       115.6   202.6   71.7     56.5         3740        ohcv     eight          234  3.46    3.1         8.30         155     4750        16           18  34184\\n69        gas  convertible        96.6   180.3   70.5     50.8         3685        ohcv     eight          234  3.46    3.1         8.30         155     4750        16           18  35056\\n70        gas        sedan       120.9   208.1   71.7     56.7         3900        ohcv     eight          308   3.8   3.35         8.00         184     4500        14           16  40960\\n71        gas      hardtop       112.0   199.2   72.0     55.4         3715        ohcv     eight          304   3.8   3.35         8.00         184     4500        14           16  45400\\n72        gas    hatchback       102.7   178.4   68.0     54.8         2910         ohc      four          140  3.78   3.12         8.00         175     5000        19           24  16503\\n73        gas    hatchback        93.7   157.3   64.4     50.8         1918         ohc      four           92  2.97   3.23         9.40          68     5500        37           41   5389\\n74        gas    hatchback        93.7   157.3   64.4     50.8         1944         ohc      four           92  2.97   3.23         9.40          68     5500        31           38   6189\\n75        gas    hatchback        93.7   157.3   64.4     50.8         2004         ohc      four           92  2.97   3.23         9.40          68     5500        31           38   6669\\n76        gas    hatchback        93.0   157.3   63.8     50.8         2145         ohc      four           98  3.03   3.39         7.60         102     5500        24           30   7689\\n77        gas    hatchback        96.3   173.0   65.4     49.4         2370         ohc      four          110  3.17   3.46         7.50         116     5500        23           30   9959\\n78        gas    hatchback        96.3   173.0   65.4     49.4         2328         ohc      four          122  3.35   3.46         8.50          88     5000        25           32   8499\\n79        gas    hatchback        95.9   173.2   66.3     50.2         2833         ohc      four          156  3.58   3.86         7.00         145     5000        19           24  12629\\n80        gas    hatchback        95.9   173.2   66.3     50.2         2921         ohc      four          156  3.59   3.86         7.00         145     5000        19           24  14869\\n81        gas    hatchback        95.9   173.2   66.3     50.2         2926         ohc      four          156  3.59   3.86         7.00         145     5000        19           24  14489\\n82        gas        sedan        96.3   172.4   65.4     51.6         2365         ohc      four          122  3.35   3.46         8.50          88     5000        25           32   6989\\n83        gas        sedan        96.3   172.4   65.4     51.6         2405         ohc      four          122  3.35   3.46         8.50          88     5000        25           32   8189\\n84        gas        sedan        96.3   172.4   65.4     51.6         2403         ohc      four          110  3.17   3.46         7.50         116     5500        23           30   9279\\n85        gas        sedan        96.3   172.4   65.4     51.6         2403         ohc      four          110  3.17   3.46         7.50         116     5500        23           30   9279\\n86        gas        sedan        94.5   165.3   63.8     54.5         1889         ohc      four           97  3.15   3.29         9.40          69     5200        31           37   5499\\n87     diesel        sedan        94.5   165.3   63.8     54.5         2017         ohc      four          103  2.99   3.47        21.90          55     4800        45           50   7099\\n88        gas        sedan        94.5   165.3   63.8     54.5         1918         ohc      four           97  3.15   3.29         9.40          69     5200        31           37   6649\\n89        gas        sedan        94.5   165.3   63.8     54.5         1938         ohc      four           97  3.15   3.29         9.40          69     5200        31           37   6849\\n90        gas        wagon        94.5   170.2   63.8     53.5         2024         ohc      four           97  3.15   3.29         9.40          69     5200        31           37   7349\\n91        gas        sedan        94.5   165.3   63.8     54.5         1951         ohc      four           97  3.15   3.29         9.40          69     5200        31           37   7299\\n92        gas    hatchback        94.5   165.6   63.8     53.3         2028         ohc      four           97  3.15   3.29         9.40          69     5200        31           37   7799\\n93        gas        sedan        94.5   165.3   63.8     54.5         1971         ohc      four           97  3.15   3.29         9.40          69     5200        31           37   7499\\n94        gas        wagon        94.5   170.2   63.8     53.5         2037         ohc      four           97  3.15   3.29         9.40          69     5200        31           37   7999\\n95        gas      hardtop        95.1   162.4   63.8     53.3         2008         ohc      four           97  3.15   3.29         9.40          69     5200        31           37   8249\\n96        gas    hatchback        97.2   173.4   65.2     54.7         2324         ohc      four          120  3.33   3.47         8.50          97     5200        27           34   8949\\n97        gas        sedan        97.2   173.4   65.2     54.7         2302         ohc      four          120  3.33   3.47         8.50          97     5200        27           34   9549\\n98        gas        sedan       100.4   181.7   66.5     55.1         3095        ohcv       six          181  3.43   3.27         9.00         152     5200        17           22  13499\\n99        gas        wagon       100.4   184.6   66.5     56.1         3296        ohcv       six          181  3.43   3.27         9.00         152     5200        17           22  14399\\n100       gas        sedan       100.4   184.6   66.5     55.1         3060        ohcv       six          181  3.43   3.27         9.00         152     5200        19           25  13499\\n101       gas    hatchback        91.3   170.7   67.9     49.7         3071        ohcv       six          181  3.43   3.27         9.00         160     5200        19           25  17199\\n102       gas    hatchback        91.3   170.7   67.9     49.7         3139        ohcv       six          181  3.43   3.27         7.80         200     5200        17           23  19699\\n103       gas    hatchback        99.2   178.5   67.9     49.7         3139        ohcv       six          181  3.43   3.27         9.00         160     5200        19           25  18399\\n104       gas        sedan       107.9   186.7   68.4     56.7         3020           l      four          120  3.46   3.19         8.40          97     5000        19           24  11900\\n105    diesel        sedan       107.9   186.7   68.4     56.7         3197           l      four          152   3.7   3.52        21.00          95     4150        28           33  13200\\n106       gas        wagon       114.2   198.9   68.4     58.7         3230           l      four          120  3.46   3.19         8.40          97     5000        19           24  12440\\n107    diesel        wagon       114.2   198.9   68.4     58.7         3430           l      four          152   3.7   3.52        21.00          95     4150        25           25  13860\\n108       gas        sedan       107.9   186.7   68.4     56.7         3075           l      four          120  3.46   2.19         8.40          95     5000        19           24  15580\\n109    diesel        sedan       107.9   186.7   68.4     56.7         3252           l      four          152   3.7   3.52        21.00          95     4150        28           33  16900\\n110       gas        wagon       114.2   198.9   68.4     56.7         3285           l      four          120  3.46   2.19         8.40          95     5000        19           24  16695\\n111    diesel        wagon       114.2   198.9   68.4     58.7         3485           l      four          152   3.7   3.52        21.00          95     4150        25           25  17075\\n112       gas        sedan       107.9   186.7   68.4     56.7         3075           l      four          120  3.46   3.19         8.40          97     5000        19           24  16630\\n113    diesel        sedan       107.9   186.7   68.4     56.7         3252           l      four          152   3.7   3.52        21.00          95     4150        28           33  17950\\n114       gas        sedan       108.0   186.7   68.3     56.0         3130           l      four          134  3.61   3.21         7.00         142     5600        18           24  18150\\n115       gas    hatchback        93.7   157.3   63.8     50.8         1918         ohc      four           90  2.97   3.23         9.40          68     5500        37           41   5572\\n116       gas    hatchback        93.7   157.3   63.8     50.8         2128         ohc      four           98  3.03   3.39         7.60         102     5500        24           30   7957\\n117       gas    hatchback        93.7   157.3   63.8     50.6         1967         ohc      four           90  2.97   3.23         9.40          68     5500        31           38   6229\\n118       gas        sedan        93.7   167.3   63.8     50.8         1989         ohc      four           90  2.97   3.23         9.40          68     5500        31           38   6692\\n119       gas        sedan        93.7   167.3   63.8     50.8         2191         ohc      four           98  2.97   3.23         9.40          68     5500        31           38   7609\\n120       gas        wagon       103.3   174.6   64.6     59.8         2535         ohc      four          122  3.35   3.46         8.50          88     5000        24           30   8921\\n121       gas    hatchback        95.9   173.2   66.3     50.2         2818         ohc      four          156  3.59   3.86         7.00         145     5000        19           24  12764\\n122       gas    hatchback        94.5   168.9   68.3     50.2         2778         ohc      four          151  3.94   3.11         9.50         143     5500        19           27  22018\\n123       gas      hardtop        89.5   168.9   65.0     51.6         2756        ohcf       six          194  3.74    2.9         9.50         207     5900        17           25  32528\\n124       gas      hardtop        89.5   168.9   65.0     51.6         2756        ohcf       six          194  3.74    2.9         9.50         207     5900        17           25  34028\\n125       gas  convertible        89.5   168.9   65.0     51.6         2800        ohcf       six          194  3.74    2.9         9.50         207     5900        17           25  37028\\n126       gas        wagon        96.1   181.5   66.5     55.2         2579         ohc      four          132  3.46    3.9         8.70        None     None        23           31   9295\\n127       gas    hatchback        96.1   176.8   66.6     50.5         2460         ohc      four          132  3.46    3.9         8.70        None     None        23           31   9895\\n128       gas    hatchback        99.1   186.6   66.5     56.1         2658         ohc      four          121  3.54   3.07         9.31         110     5250        21           28  11850\\n129       gas        sedan        99.1   186.6   66.5     56.1         2695         ohc      four          121  3.54   3.07         9.30         110     5250        21           28  12170\\n130       gas    hatchback        99.1   186.6   66.5     56.1         2707         ohc      four          121  2.54   2.07         9.30         110     5250        21           28  15040\\n131       gas        sedan        99.1   186.6   66.5     56.1         2758         ohc      four          121  3.54   3.07         9.30         110     5250        21           28  15510\\n132       gas    hatchback        99.1   186.6   66.5     56.1         2808        dohc      four          121  3.54   3.07         9.00         160     5500        19           26  18150\\n133       gas        sedan        99.1   186.6   66.5     56.1         2847        dohc      four          121  3.54   3.07         9.00         160     5500        19           26  18620\\n134       gas    hatchback        93.7   156.9   63.4     53.7         2050        ohcf      four           97  3.62   2.36         9.00          69     4900        31           36   5118\\n135       gas    hatchback        93.7   157.9   63.6     53.7         2120        ohcf      four          108  3.62   2.64         8.70          73     4400        26           31   7053\\n136       gas    hatchback        93.3   157.3   63.8     55.7         2240        ohcf      four          108  3.62   2.64         8.70          73     4400        26           31   7603\\n137       gas        sedan        97.2   172.0   65.4     52.5         2145        ohcf      four          108  3.62   2.64         9.50          82     4800        32           37   7126\\n138       gas        sedan        97.2   172.0   65.4     52.5         2190        ohcf      four          108  3.62   2.64         9.50          82     4400        28           33   7775\\n139       gas        sedan        97.2   172.0   65.4     52.5         2340        ohcf      four          108  3.62   2.64         9.00          94     5200        26           32   9960\\n140       gas        sedan        97.0   172.0   65.4     54.3         2385        ohcf      four          108  3.62   2.64         9.00          82     4800        24           25   9233\\n141       gas        sedan        97.0   172.0   65.4     54.3         2510        ohcf      four          108  3.62   2.64         7.70         111     4800        24           29  11259\\n142       gas        wagon        97.0   173.5   65.4     53.0         2290        ohcf      four          108  3.62   2.64         9.00          82     4800        28           32   7463\\n143       gas        wagon        97.0   173.5   65.4     53.0         2455        ohcf      four          108  3.62   2.64         9.00          94     5200        25           31  10198\\n144       gas        wagon        96.9   173.6   65.4     54.9         2420        ohcf      four          108  3.62   2.64         9.00          82     4800        23           29   8013\\n145       gas        wagon        96.9   173.6   65.4     54.9         2650        ohcf      four          108  3.62   2.64         7.70         111     4800        23           23  11694\\n146       gas    hatchback        95.7   158.7   63.6     54.5         1985         ohc      four           92  3.05   3.03         9.00          62     4800        35           39   5348\\n147       gas    hatchback        95.7   158.7   63.6     54.5         2040         ohc      four           92  3.05   3.03         9.00          62     4800        31           38   6338\\n148       gas    hatchback        95.7   158.7   63.6     54.5         2015         ohc      four           92  3.05   3.03         9.00          62     4800        31           38   6488\\n149       gas        wagon        95.7   169.7   63.6     59.1         2280         ohc      four           92  3.05   3.03         9.00          62     4800        31           37   6918\\n150       gas        wagon        95.7   169.7   63.6     59.1         2290         ohc      four           92  3.05   3.03         9.00          62     4800        27           32   7898\\n151       gas        wagon        95.7   169.7   63.6     59.1         3110         ohc      four           92  3.05   3.03         9.00          62     4800        27           32   8778\\n152       gas        sedan        95.7   166.3   64.4     53.0         2081         ohc      four           98  3.19   3.03         9.00          70     4800        30           37   6938\\n153       gas    hatchback        95.7   166.3   64.4     52.8         2109         ohc      four           98  3.19   3.03         9.00          70     4800        30           37   7198\\n154    diesel        sedan        95.7   166.3   64.4     53.0         2275         ohc      four          110  3.27   3.35        22.50          56     4500        34           36   7898\\n155    diesel    hatchback        95.7   166.3   64.4     52.8         2275         ohc      four          110  3.27   3.35        22.50          56     4500        38           47   7788\\n156       gas        sedan        95.7   166.3   64.4     53.0         2094         ohc      four           98  3.19   3.03         9.00          70     4800        38           47   7738\\n157       gas    hatchback        95.7   166.3   64.4     52.8         2122         ohc      four           98  3.19   3.03         9.00          70     4800        28           34   8358\\n158       gas        sedan        95.7   166.3   64.4     52.8         2140         ohc      four           98  3.19   3.03         9.00          70     4800        28           34   9258\\n159       gas        sedan        94.5   168.7   64.0     52.6         2169         ohc      four           98  3.19   3.03         9.00          70     4800        29           34   8058\\n160       gas    hatchback        94.5   168.7   64.0     52.6         2204         ohc      four           98  3.19   3.03         9.00          70     4800        29           34   8238\\n161       gas        sedan        94.5   168.7   64.0     52.6         2265        dohc      four           98  3.24   3.08         9.40         112     6600        26           29   9298\\n162       gas    hatchback        94.5   168.7   64.0     52.6         2300        dohc      four           98  3.24   3.08         9.40         112     6600        26           29   9538\\n163       gas      hardtop        98.4   176.2   65.6     52.0         2540         ohc      four          146  3.62    3.5         9.30         116     4800        24           30   8449\\n164       gas      hardtop        98.4   176.2   65.6     52.0         2536         ohc      four          146  3.62    3.5         9.30         116     4800        24           30   9639\\n165       gas    hatchback        98.4   176.2   65.6     52.0         2551         ohc      four          146  3.62    3.5         9.30         116     4800        24           30   9989\\n166       gas      hardtop        98.4   176.2   65.6     52.0         2679         ohc      four          146  3.62    3.5         9.30         116     4800        24           30  11199\\n167       gas    hatchback        98.4   176.2   65.6     52.0         2714         ohc      four          146  3.62    3.5         9.30         116     4800        24           30  11549\\n168       gas  convertible        98.4   176.2   65.6     53.0         2975         ohc      four          146  3.62    3.5         9.30         116     4800        24           30  17669\\n169       gas        sedan       102.4   175.6   66.5     54.9         2326         ohc      four          122  3.31   3.54         8.70          92     4200        29           34   8948\\n170    diesel        sedan       102.4   175.6   66.5     54.9         2480         ohc      four          110  3.27   3.35        22.50          73     4500        30           33  10698\\n171       gas    hatchback       102.4   175.6   66.5     53.9         2414         ohc      four          122  3.31   3.54         8.70          92     4200        27           32   9988\\n172       gas        sedan       102.4   175.6   66.5     54.9         2414         ohc      four          122  3.31   3.54         8.70          92     4200        27           32  10898\\n173       gas    hatchback       102.4   175.6   66.5     53.9         2458         ohc      four          122  3.31   3.54         8.70          92     4200        27           32  11248\\n174       gas    hatchback       102.9   183.5   67.7     52.0         2976        dohc       six          171  3.27   3.35         9.30         161     5200        20           24  16558\\n175       gas    hatchback       102.9   183.5   67.7     52.0         3016        dohc       six          171  3.27   3.35         9.30         161     5200        19           24  15998\\n176       gas        sedan       104.5   187.8   66.5     54.1         3131        dohc       six          171  3.27   3.35         9.20         156     5200        20           24  15690\\n177       gas        wagon       104.5   187.8   66.5     54.1         3151        dohc       six          161  3.27   3.35         9.20         156     5200        19           24  15750\\n178    diesel        sedan        97.3   171.7   65.5     55.7         2261         ohc      four           97  3.01    3.4        23.00          52     4800        37           46   7775\\n179       gas        sedan        97.3   171.7   65.5     55.7         2209         ohc      four          109  3.19    3.4         9.00          85     5250        27           34   7975\\n180    diesel        sedan        97.3   171.7   65.5     55.7         2264         ohc      four           97  3.01    3.4        23.00          52     4800        37           46   7995\\n181       gas        sedan        97.3   171.7   65.5     55.7         2212         ohc      four          109  3.19    3.4         9.00          85     5250        27           34   8195\\n182       gas        sedan        97.3   171.7   65.5     55.7         2275         ohc      four          109  3.19    3.4         9.00          85     5250        27           34   8495\\n183    diesel        sedan        97.3   171.7   65.5     55.7         2319         ohc      four           97  3.01    3.4        23.00          68     4500        37           42   9495\\n184       gas        sedan        97.3   171.7   65.5     55.7         2300         ohc      four          109  3.19    3.4        10.00         100     5500        26           32   9995\\n185       gas  convertible        94.5   159.3   64.2     55.6         2254         ohc      four          109  3.19    3.4         8.50          90     5500        24           29  11595\\n186       gas    hatchback        94.5   165.7   64.0     51.4         2221         ohc      four          109  3.19    3.4         8.50          90     5500        24           29   9980\\n187       gas        sedan       100.4   180.2   66.9     55.1         2661         ohc      five          136  3.19    3.4         8.50         110     5500        19           24  13295\\n188    diesel        sedan       100.4   180.2   66.9     55.1         2579         ohc      four           97  3.01    3.4        23.00          68     4500        33           38  13845\\n189       gas        wagon       100.4   183.1   66.9     55.1         2563         ohc      four          109  3.19    3.4         9.00          88     5500        25           31  12290\\n190       gas        sedan       104.3   188.8   67.2     56.2         2912         ohc      four          141  3.78   3.15         9.50         114     5400        23           28  12940\\n191       gas        wagon       104.3   188.8   67.2     57.5         3034         ohc      four          141  3.78   3.15         9.50         114     5400        23           28  13415\\n192       gas        sedan       104.3   188.8   67.2     56.2         2935         ohc      four          141  3.78   3.15         9.50         114     5400        24           28  15985\\n193       gas        wagon       104.3   188.8   67.2     57.5         3042         ohc      four          141  3.78   3.15         9.50         114     5400        24           28  16515\\n194       gas        sedan       104.3   188.8   67.2     56.2         3045         ohc      four          130  3.62   3.15         7.50         162     5100        17           22  18420\\n195       gas        wagon       104.3   188.8   67.2     57.5         3157         ohc      four          130  3.62   3.15         7.50         162     5100        17           22  18950\\n196       gas        sedan       109.1   188.8   68.9     55.5         2952         ohc      four          141  3.78   3.15         9.50         114     5400        23           28  16845\\n197       gas        sedan       109.1   188.8   68.8     55.5         3049         ohc      four          141  3.78   3.15         8.70         160     5300        19           25  19045\\n198       gas        sedan       109.1   188.8   68.9     55.5         3012        ohcv       six          173  3.58   2.87         8.80         134     5500        18           23  21485\\n199    diesel        sedan       109.1   188.8   68.9     55.5         3217         ohc       six          145  3.01    3.4        23.00         106     4800        26           27  22470\\n200       gas        sedan       109.1   188.8   68.9     55.5         3062         ohc      four          141  3.78   3.15         9.50         114     5400        19           25  22625'"
            ]
          },
          "metadata": {},
          "output_type": "display_data"
        }
      ],
      "source": [
        "df.replace(to_replace=['?'],value=[None],inplace=True)\n",
        "display(df.to_string())"
      ]
    },
    {
      "cell_type": "code",
      "execution_count": 5,
      "id": "e74b80e9",
      "metadata": {
        "id": "e74b80e9"
      },
      "outputs": [],
      "source": [
        "df = df.astype({'bore':'float','stroke':'float','horse_power':'float','peak_rpm':'float'})\n"
      ]
    },
    {
      "cell_type": "code",
      "execution_count": 6,
      "id": "6854b524",
      "metadata": {
        "colab": {
          "base_uri": "https://localhost:8080/"
        },
        "id": "6854b524",
        "outputId": "b4e71f08-30b8-4c7a-f7cc-79ca759d5e7b"
      },
      "outputs": [
        {
          "name": "stdout",
          "output_type": "stream",
          "text": [
            "<class 'pandas.core.frame.DataFrame'>\n",
            "RangeIndex: 201 entries, 0 to 200\n",
            "Data columns (total 18 columns):\n",
            " #   Column       Non-Null Count  Dtype  \n",
            "---  ------       --------------  -----  \n",
            " 0   fuel_type    201 non-null    object \n",
            " 1   body         201 non-null    object \n",
            " 2   wheel_base   201 non-null    float64\n",
            " 3   length       201 non-null    float64\n",
            " 4   width        201 non-null    float64\n",
            " 5   heights      201 non-null    float64\n",
            " 6   curb_weight  201 non-null    int64  \n",
            " 7   engine_type  201 non-null    object \n",
            " 8   cylinders    201 non-null    object \n",
            " 9   engine_size  201 non-null    int64  \n",
            " 10  bore         197 non-null    float64\n",
            " 11  stroke       197 non-null    float64\n",
            " 12  compression  201 non-null    float64\n",
            " 13  horse_power  199 non-null    float64\n",
            " 14  peak_rpm     199 non-null    float64\n",
            " 15  city_mpg     201 non-null    int64  \n",
            " 16  highway_mpg  201 non-null    int64  \n",
            " 17  price        201 non-null    int64  \n",
            "dtypes: float64(9), int64(5), object(4)\n",
            "memory usage: 28.4+ KB\n"
          ]
        }
      ],
      "source": [
        "df.info()"
      ]
    },
    {
      "cell_type": "code",
      "execution_count": 7,
      "id": "50d519bd",
      "metadata": {
        "colab": {
          "base_uri": "https://localhost:8080/",
          "height": 487
        },
        "id": "50d519bd",
        "outputId": "c04ccdf9-39d3-4759-8b0e-26d522f372ae"
      },
      "outputs": [
        {
          "data": {
            "text/html": [
              "\n",
              "  <div id=\"df-d62ccb2a-f29c-4466-b1fb-ff94a37fd028\">\n",
              "    <div class=\"colab-df-container\">\n",
              "      <div>\n",
              "<style scoped>\n",
              "    .dataframe tbody tr th:only-of-type {\n",
              "        vertical-align: middle;\n",
              "    }\n",
              "\n",
              "    .dataframe tbody tr th {\n",
              "        vertical-align: top;\n",
              "    }\n",
              "\n",
              "    .dataframe thead th {\n",
              "        text-align: right;\n",
              "    }\n",
              "</style>\n",
              "<table border=\"1\" class=\"dataframe\">\n",
              "  <thead>\n",
              "    <tr style=\"text-align: right;\">\n",
              "      <th></th>\n",
              "      <th>fuel_type</th>\n",
              "      <th>wheel_base</th>\n",
              "      <th>length</th>\n",
              "      <th>width</th>\n",
              "      <th>heights</th>\n",
              "      <th>curb_weight</th>\n",
              "      <th>engine_size</th>\n",
              "      <th>bore</th>\n",
              "      <th>stroke</th>\n",
              "      <th>compression</th>\n",
              "      <th>horse_power</th>\n",
              "      <th>peak_rpm</th>\n",
              "      <th>city_mpg</th>\n",
              "      <th>highway_mpg</th>\n",
              "      <th>price</th>\n",
              "    </tr>\n",
              "  </thead>\n",
              "  <tbody>\n",
              "    <tr>\n",
              "      <th>0</th>\n",
              "      <td>gas</td>\n",
              "      <td>88.6</td>\n",
              "      <td>168.8</td>\n",
              "      <td>64.1</td>\n",
              "      <td>48.8</td>\n",
              "      <td>2548</td>\n",
              "      <td>130</td>\n",
              "      <td>3.47</td>\n",
              "      <td>2.68</td>\n",
              "      <td>9.0</td>\n",
              "      <td>111.0</td>\n",
              "      <td>5000.0</td>\n",
              "      <td>21</td>\n",
              "      <td>27</td>\n",
              "      <td>13495</td>\n",
              "    </tr>\n",
              "    <tr>\n",
              "      <th>1</th>\n",
              "      <td>gas</td>\n",
              "      <td>88.6</td>\n",
              "      <td>168.8</td>\n",
              "      <td>64.1</td>\n",
              "      <td>48.8</td>\n",
              "      <td>2548</td>\n",
              "      <td>130</td>\n",
              "      <td>3.47</td>\n",
              "      <td>2.68</td>\n",
              "      <td>9.0</td>\n",
              "      <td>111.0</td>\n",
              "      <td>5000.0</td>\n",
              "      <td>21</td>\n",
              "      <td>27</td>\n",
              "      <td>16500</td>\n",
              "    </tr>\n",
              "    <tr>\n",
              "      <th>2</th>\n",
              "      <td>gas</td>\n",
              "      <td>94.5</td>\n",
              "      <td>171.2</td>\n",
              "      <td>65.5</td>\n",
              "      <td>52.4</td>\n",
              "      <td>2823</td>\n",
              "      <td>152</td>\n",
              "      <td>2.68</td>\n",
              "      <td>3.47</td>\n",
              "      <td>9.0</td>\n",
              "      <td>154.0</td>\n",
              "      <td>5000.0</td>\n",
              "      <td>19</td>\n",
              "      <td>26</td>\n",
              "      <td>16500</td>\n",
              "    </tr>\n",
              "    <tr>\n",
              "      <th>3</th>\n",
              "      <td>gas</td>\n",
              "      <td>99.8</td>\n",
              "      <td>176.6</td>\n",
              "      <td>66.2</td>\n",
              "      <td>54.3</td>\n",
              "      <td>2337</td>\n",
              "      <td>109</td>\n",
              "      <td>3.19</td>\n",
              "      <td>3.40</td>\n",
              "      <td>10.0</td>\n",
              "      <td>102.0</td>\n",
              "      <td>5500.0</td>\n",
              "      <td>24</td>\n",
              "      <td>30</td>\n",
              "      <td>13950</td>\n",
              "    </tr>\n",
              "    <tr>\n",
              "      <th>4</th>\n",
              "      <td>gas</td>\n",
              "      <td>99.4</td>\n",
              "      <td>176.6</td>\n",
              "      <td>66.4</td>\n",
              "      <td>54.3</td>\n",
              "      <td>2824</td>\n",
              "      <td>136</td>\n",
              "      <td>3.19</td>\n",
              "      <td>3.40</td>\n",
              "      <td>8.0</td>\n",
              "      <td>115.0</td>\n",
              "      <td>5500.0</td>\n",
              "      <td>18</td>\n",
              "      <td>22</td>\n",
              "      <td>17450</td>\n",
              "    </tr>\n",
              "    <tr>\n",
              "      <th>...</th>\n",
              "      <td>...</td>\n",
              "      <td>...</td>\n",
              "      <td>...</td>\n",
              "      <td>...</td>\n",
              "      <td>...</td>\n",
              "      <td>...</td>\n",
              "      <td>...</td>\n",
              "      <td>...</td>\n",
              "      <td>...</td>\n",
              "      <td>...</td>\n",
              "      <td>...</td>\n",
              "      <td>...</td>\n",
              "      <td>...</td>\n",
              "      <td>...</td>\n",
              "      <td>...</td>\n",
              "    </tr>\n",
              "    <tr>\n",
              "      <th>196</th>\n",
              "      <td>gas</td>\n",
              "      <td>109.1</td>\n",
              "      <td>188.8</td>\n",
              "      <td>68.9</td>\n",
              "      <td>55.5</td>\n",
              "      <td>2952</td>\n",
              "      <td>141</td>\n",
              "      <td>3.78</td>\n",
              "      <td>3.15</td>\n",
              "      <td>9.5</td>\n",
              "      <td>114.0</td>\n",
              "      <td>5400.0</td>\n",
              "      <td>23</td>\n",
              "      <td>28</td>\n",
              "      <td>16845</td>\n",
              "    </tr>\n",
              "    <tr>\n",
              "      <th>197</th>\n",
              "      <td>gas</td>\n",
              "      <td>109.1</td>\n",
              "      <td>188.8</td>\n",
              "      <td>68.8</td>\n",
              "      <td>55.5</td>\n",
              "      <td>3049</td>\n",
              "      <td>141</td>\n",
              "      <td>3.78</td>\n",
              "      <td>3.15</td>\n",
              "      <td>8.7</td>\n",
              "      <td>160.0</td>\n",
              "      <td>5300.0</td>\n",
              "      <td>19</td>\n",
              "      <td>25</td>\n",
              "      <td>19045</td>\n",
              "    </tr>\n",
              "    <tr>\n",
              "      <th>198</th>\n",
              "      <td>gas</td>\n",
              "      <td>109.1</td>\n",
              "      <td>188.8</td>\n",
              "      <td>68.9</td>\n",
              "      <td>55.5</td>\n",
              "      <td>3012</td>\n",
              "      <td>173</td>\n",
              "      <td>3.58</td>\n",
              "      <td>2.87</td>\n",
              "      <td>8.8</td>\n",
              "      <td>134.0</td>\n",
              "      <td>5500.0</td>\n",
              "      <td>18</td>\n",
              "      <td>23</td>\n",
              "      <td>21485</td>\n",
              "    </tr>\n",
              "    <tr>\n",
              "      <th>199</th>\n",
              "      <td>diesel</td>\n",
              "      <td>109.1</td>\n",
              "      <td>188.8</td>\n",
              "      <td>68.9</td>\n",
              "      <td>55.5</td>\n",
              "      <td>3217</td>\n",
              "      <td>145</td>\n",
              "      <td>3.01</td>\n",
              "      <td>3.40</td>\n",
              "      <td>23.0</td>\n",
              "      <td>106.0</td>\n",
              "      <td>4800.0</td>\n",
              "      <td>26</td>\n",
              "      <td>27</td>\n",
              "      <td>22470</td>\n",
              "    </tr>\n",
              "    <tr>\n",
              "      <th>200</th>\n",
              "      <td>gas</td>\n",
              "      <td>109.1</td>\n",
              "      <td>188.8</td>\n",
              "      <td>68.9</td>\n",
              "      <td>55.5</td>\n",
              "      <td>3062</td>\n",
              "      <td>141</td>\n",
              "      <td>3.78</td>\n",
              "      <td>3.15</td>\n",
              "      <td>9.5</td>\n",
              "      <td>114.0</td>\n",
              "      <td>5400.0</td>\n",
              "      <td>19</td>\n",
              "      <td>25</td>\n",
              "      <td>22625</td>\n",
              "    </tr>\n",
              "  </tbody>\n",
              "</table>\n",
              "<p>201 rows × 15 columns</p>\n",
              "</div>\n",
              "      <button class=\"colab-df-convert\" onclick=\"convertToInteractive('df-d62ccb2a-f29c-4466-b1fb-ff94a37fd028')\"\n",
              "              title=\"Convert this dataframe to an interactive table.\"\n",
              "              style=\"display:none;\">\n",
              "        \n",
              "  <svg xmlns=\"http://www.w3.org/2000/svg\" height=\"24px\"viewBox=\"0 0 24 24\"\n",
              "       width=\"24px\">\n",
              "    <path d=\"M0 0h24v24H0V0z\" fill=\"none\"/>\n",
              "    <path d=\"M18.56 5.44l.94 2.06.94-2.06 2.06-.94-2.06-.94-.94-2.06-.94 2.06-2.06.94zm-11 1L8.5 8.5l.94-2.06 2.06-.94-2.06-.94L8.5 2.5l-.94 2.06-2.06.94zm10 10l.94 2.06.94-2.06 2.06-.94-2.06-.94-.94-2.06-.94 2.06-2.06.94z\"/><path d=\"M17.41 7.96l-1.37-1.37c-.4-.4-.92-.59-1.43-.59-.52 0-1.04.2-1.43.59L10.3 9.45l-7.72 7.72c-.78.78-.78 2.05 0 2.83L4 21.41c.39.39.9.59 1.41.59.51 0 1.02-.2 1.41-.59l7.78-7.78 2.81-2.81c.8-.78.8-2.07 0-2.86zM5.41 20L4 18.59l7.72-7.72 1.47 1.35L5.41 20z\"/>\n",
              "  </svg>\n",
              "      </button>\n",
              "      \n",
              "  <style>\n",
              "    .colab-df-container {\n",
              "      display:flex;\n",
              "      flex-wrap:wrap;\n",
              "      gap: 12px;\n",
              "    }\n",
              "\n",
              "    .colab-df-convert {\n",
              "      background-color: #E8F0FE;\n",
              "      border: none;\n",
              "      border-radius: 50%;\n",
              "      cursor: pointer;\n",
              "      display: none;\n",
              "      fill: #1967D2;\n",
              "      height: 32px;\n",
              "      padding: 0 0 0 0;\n",
              "      width: 32px;\n",
              "    }\n",
              "\n",
              "    .colab-df-convert:hover {\n",
              "      background-color: #E2EBFA;\n",
              "      box-shadow: 0px 1px 2px rgba(60, 64, 67, 0.3), 0px 1px 3px 1px rgba(60, 64, 67, 0.15);\n",
              "      fill: #174EA6;\n",
              "    }\n",
              "\n",
              "    [theme=dark] .colab-df-convert {\n",
              "      background-color: #3B4455;\n",
              "      fill: #D2E3FC;\n",
              "    }\n",
              "\n",
              "    [theme=dark] .colab-df-convert:hover {\n",
              "      background-color: #434B5C;\n",
              "      box-shadow: 0px 1px 3px 1px rgba(0, 0, 0, 0.15);\n",
              "      filter: drop-shadow(0px 1px 2px rgba(0, 0, 0, 0.3));\n",
              "      fill: #FFFFFF;\n",
              "    }\n",
              "  </style>\n",
              "\n",
              "      <script>\n",
              "        const buttonEl =\n",
              "          document.querySelector('#df-d62ccb2a-f29c-4466-b1fb-ff94a37fd028 button.colab-df-convert');\n",
              "        buttonEl.style.display =\n",
              "          google.colab.kernel.accessAllowed ? 'block' : 'none';\n",
              "\n",
              "        async function convertToInteractive(key) {\n",
              "          const element = document.querySelector('#df-d62ccb2a-f29c-4466-b1fb-ff94a37fd028');\n",
              "          const dataTable =\n",
              "            await google.colab.kernel.invokeFunction('convertToInteractive',\n",
              "                                                     [key], {});\n",
              "          if (!dataTable) return;\n",
              "\n",
              "          const docLinkHtml = 'Like what you see? Visit the ' +\n",
              "            '<a target=\"_blank\" href=https://colab.research.google.com/notebooks/data_table.ipynb>data table notebook</a>'\n",
              "            + ' to learn more about interactive tables.';\n",
              "          element.innerHTML = '';\n",
              "          dataTable['output_type'] = 'display_data';\n",
              "          await google.colab.output.renderOutput(dataTable, element);\n",
              "          const docLink = document.createElement('div');\n",
              "          docLink.innerHTML = docLinkHtml;\n",
              "          element.appendChild(docLink);\n",
              "        }\n",
              "      </script>\n",
              "    </div>\n",
              "  </div>\n",
              "  "
            ],
            "text/plain": [
              "    fuel_type  wheel_base  length  width  heights  curb_weight  engine_size  \\\n",
              "0         gas        88.6   168.8   64.1     48.8         2548          130   \n",
              "1         gas        88.6   168.8   64.1     48.8         2548          130   \n",
              "2         gas        94.5   171.2   65.5     52.4         2823          152   \n",
              "3         gas        99.8   176.6   66.2     54.3         2337          109   \n",
              "4         gas        99.4   176.6   66.4     54.3         2824          136   \n",
              "..        ...         ...     ...    ...      ...          ...          ...   \n",
              "196       gas       109.1   188.8   68.9     55.5         2952          141   \n",
              "197       gas       109.1   188.8   68.8     55.5         3049          141   \n",
              "198       gas       109.1   188.8   68.9     55.5         3012          173   \n",
              "199    diesel       109.1   188.8   68.9     55.5         3217          145   \n",
              "200       gas       109.1   188.8   68.9     55.5         3062          141   \n",
              "\n",
              "     bore  stroke  compression  horse_power  peak_rpm  city_mpg  highway_mpg  \\\n",
              "0    3.47    2.68          9.0        111.0    5000.0        21           27   \n",
              "1    3.47    2.68          9.0        111.0    5000.0        21           27   \n",
              "2    2.68    3.47          9.0        154.0    5000.0        19           26   \n",
              "3    3.19    3.40         10.0        102.0    5500.0        24           30   \n",
              "4    3.19    3.40          8.0        115.0    5500.0        18           22   \n",
              "..    ...     ...          ...          ...       ...       ...          ...   \n",
              "196  3.78    3.15          9.5        114.0    5400.0        23           28   \n",
              "197  3.78    3.15          8.7        160.0    5300.0        19           25   \n",
              "198  3.58    2.87          8.8        134.0    5500.0        18           23   \n",
              "199  3.01    3.40         23.0        106.0    4800.0        26           27   \n",
              "200  3.78    3.15          9.5        114.0    5400.0        19           25   \n",
              "\n",
              "     price  \n",
              "0    13495  \n",
              "1    16500  \n",
              "2    16500  \n",
              "3    13950  \n",
              "4    17450  \n",
              "..     ...  \n",
              "196  16845  \n",
              "197  19045  \n",
              "198  21485  \n",
              "199  22470  \n",
              "200  22625  \n",
              "\n",
              "[201 rows x 15 columns]"
            ]
          },
          "execution_count": 7,
          "metadata": {},
          "output_type": "execute_result"
        }
      ],
      "source": [
        "df2=df.drop(columns=['body','engine_type','cylinders'])\n",
        "df2"
      ]
    },
    {
      "cell_type": "code",
      "execution_count": 8,
      "id": "b6157e7c",
      "metadata": {
        "id": "b6157e7c"
      },
      "outputs": [],
      "source": [
        "df2.dropna(inplace = True)"
      ]
    },
    {
      "cell_type": "code",
      "execution_count": 9,
      "id": "82c6d760",
      "metadata": {
        "colab": {
          "base_uri": "https://localhost:8080/"
        },
        "id": "82c6d760",
        "outputId": "3fb4ca46-2ecb-4b06-f938-11ef0b2363eb"
      },
      "outputs": [
        {
          "data": {
            "text/plain": [
              "fuel_type      0\n",
              "wheel_base     0\n",
              "length         0\n",
              "width          0\n",
              "heights        0\n",
              "curb_weight    0\n",
              "engine_size    0\n",
              "bore           0\n",
              "stroke         0\n",
              "compression    0\n",
              "horse_power    0\n",
              "peak_rpm       0\n",
              "city_mpg       0\n",
              "highway_mpg    0\n",
              "price          0\n",
              "dtype: int64"
            ]
          },
          "execution_count": 9,
          "metadata": {},
          "output_type": "execute_result"
        }
      ],
      "source": [
        "df2.isnull().sum()"
      ]
    },
    {
      "cell_type": "code",
      "execution_count": 10,
      "id": "8e2343c8",
      "metadata": {
        "id": "8e2343c8"
      },
      "outputs": [],
      "source": [
        "df2.to_csv('df2.csv')"
      ]
    },
    {
      "cell_type": "markdown",
      "id": "7356dab7",
      "metadata": {
        "id": "7356dab7"
      },
      "source": [
        " **Replace ['gas', 'diesel'] string values to [0, 1]**"
      ]
    },
    {
      "cell_type": "code",
      "execution_count": 11,
      "id": "127b23b0",
      "metadata": {
        "colab": {
          "base_uri": "https://localhost:8080/",
          "height": 270
        },
        "id": "127b23b0",
        "outputId": "da2a5e87-5146-40ee-8e03-2b7cb1b5c5c0"
      },
      "outputs": [
        {
          "data": {
            "text/html": [
              "\n",
              "  <div id=\"df-64169b2d-34d9-442b-92a1-d55f998430ef\">\n",
              "    <div class=\"colab-df-container\">\n",
              "      <div>\n",
              "<style scoped>\n",
              "    .dataframe tbody tr th:only-of-type {\n",
              "        vertical-align: middle;\n",
              "    }\n",
              "\n",
              "    .dataframe tbody tr th {\n",
              "        vertical-align: top;\n",
              "    }\n",
              "\n",
              "    .dataframe thead th {\n",
              "        text-align: right;\n",
              "    }\n",
              "</style>\n",
              "<table border=\"1\" class=\"dataframe\">\n",
              "  <thead>\n",
              "    <tr style=\"text-align: right;\">\n",
              "      <th></th>\n",
              "      <th>fuel_type</th>\n",
              "      <th>wheel_base</th>\n",
              "      <th>length</th>\n",
              "      <th>width</th>\n",
              "      <th>heights</th>\n",
              "      <th>curb_weight</th>\n",
              "      <th>engine_size</th>\n",
              "      <th>bore</th>\n",
              "      <th>stroke</th>\n",
              "      <th>compression</th>\n",
              "      <th>horse_power</th>\n",
              "      <th>peak_rpm</th>\n",
              "      <th>city_mpg</th>\n",
              "      <th>highway_mpg</th>\n",
              "      <th>price</th>\n",
              "    </tr>\n",
              "  </thead>\n",
              "  <tbody>\n",
              "    <tr>\n",
              "      <th>0</th>\n",
              "      <td>gas</td>\n",
              "      <td>88.6</td>\n",
              "      <td>168.8</td>\n",
              "      <td>64.1</td>\n",
              "      <td>48.8</td>\n",
              "      <td>2548</td>\n",
              "      <td>130</td>\n",
              "      <td>3.47</td>\n",
              "      <td>2.68</td>\n",
              "      <td>9.0</td>\n",
              "      <td>111.0</td>\n",
              "      <td>5000.0</td>\n",
              "      <td>21</td>\n",
              "      <td>27</td>\n",
              "      <td>13495</td>\n",
              "    </tr>\n",
              "    <tr>\n",
              "      <th>1</th>\n",
              "      <td>gas</td>\n",
              "      <td>88.6</td>\n",
              "      <td>168.8</td>\n",
              "      <td>64.1</td>\n",
              "      <td>48.8</td>\n",
              "      <td>2548</td>\n",
              "      <td>130</td>\n",
              "      <td>3.47</td>\n",
              "      <td>2.68</td>\n",
              "      <td>9.0</td>\n",
              "      <td>111.0</td>\n",
              "      <td>5000.0</td>\n",
              "      <td>21</td>\n",
              "      <td>27</td>\n",
              "      <td>16500</td>\n",
              "    </tr>\n",
              "    <tr>\n",
              "      <th>2</th>\n",
              "      <td>gas</td>\n",
              "      <td>94.5</td>\n",
              "      <td>171.2</td>\n",
              "      <td>65.5</td>\n",
              "      <td>52.4</td>\n",
              "      <td>2823</td>\n",
              "      <td>152</td>\n",
              "      <td>2.68</td>\n",
              "      <td>3.47</td>\n",
              "      <td>9.0</td>\n",
              "      <td>154.0</td>\n",
              "      <td>5000.0</td>\n",
              "      <td>19</td>\n",
              "      <td>26</td>\n",
              "      <td>16500</td>\n",
              "    </tr>\n",
              "    <tr>\n",
              "      <th>3</th>\n",
              "      <td>gas</td>\n",
              "      <td>99.8</td>\n",
              "      <td>176.6</td>\n",
              "      <td>66.2</td>\n",
              "      <td>54.3</td>\n",
              "      <td>2337</td>\n",
              "      <td>109</td>\n",
              "      <td>3.19</td>\n",
              "      <td>3.40</td>\n",
              "      <td>10.0</td>\n",
              "      <td>102.0</td>\n",
              "      <td>5500.0</td>\n",
              "      <td>24</td>\n",
              "      <td>30</td>\n",
              "      <td>13950</td>\n",
              "    </tr>\n",
              "    <tr>\n",
              "      <th>4</th>\n",
              "      <td>gas</td>\n",
              "      <td>99.4</td>\n",
              "      <td>176.6</td>\n",
              "      <td>66.4</td>\n",
              "      <td>54.3</td>\n",
              "      <td>2824</td>\n",
              "      <td>136</td>\n",
              "      <td>3.19</td>\n",
              "      <td>3.40</td>\n",
              "      <td>8.0</td>\n",
              "      <td>115.0</td>\n",
              "      <td>5500.0</td>\n",
              "      <td>18</td>\n",
              "      <td>22</td>\n",
              "      <td>17450</td>\n",
              "    </tr>\n",
              "  </tbody>\n",
              "</table>\n",
              "</div>\n",
              "      <button class=\"colab-df-convert\" onclick=\"convertToInteractive('df-64169b2d-34d9-442b-92a1-d55f998430ef')\"\n",
              "              title=\"Convert this dataframe to an interactive table.\"\n",
              "              style=\"display:none;\">\n",
              "        \n",
              "  <svg xmlns=\"http://www.w3.org/2000/svg\" height=\"24px\"viewBox=\"0 0 24 24\"\n",
              "       width=\"24px\">\n",
              "    <path d=\"M0 0h24v24H0V0z\" fill=\"none\"/>\n",
              "    <path d=\"M18.56 5.44l.94 2.06.94-2.06 2.06-.94-2.06-.94-.94-2.06-.94 2.06-2.06.94zm-11 1L8.5 8.5l.94-2.06 2.06-.94-2.06-.94L8.5 2.5l-.94 2.06-2.06.94zm10 10l.94 2.06.94-2.06 2.06-.94-2.06-.94-.94-2.06-.94 2.06-2.06.94z\"/><path d=\"M17.41 7.96l-1.37-1.37c-.4-.4-.92-.59-1.43-.59-.52 0-1.04.2-1.43.59L10.3 9.45l-7.72 7.72c-.78.78-.78 2.05 0 2.83L4 21.41c.39.39.9.59 1.41.59.51 0 1.02-.2 1.41-.59l7.78-7.78 2.81-2.81c.8-.78.8-2.07 0-2.86zM5.41 20L4 18.59l7.72-7.72 1.47 1.35L5.41 20z\"/>\n",
              "  </svg>\n",
              "      </button>\n",
              "      \n",
              "  <style>\n",
              "    .colab-df-container {\n",
              "      display:flex;\n",
              "      flex-wrap:wrap;\n",
              "      gap: 12px;\n",
              "    }\n",
              "\n",
              "    .colab-df-convert {\n",
              "      background-color: #E8F0FE;\n",
              "      border: none;\n",
              "      border-radius: 50%;\n",
              "      cursor: pointer;\n",
              "      display: none;\n",
              "      fill: #1967D2;\n",
              "      height: 32px;\n",
              "      padding: 0 0 0 0;\n",
              "      width: 32px;\n",
              "    }\n",
              "\n",
              "    .colab-df-convert:hover {\n",
              "      background-color: #E2EBFA;\n",
              "      box-shadow: 0px 1px 2px rgba(60, 64, 67, 0.3), 0px 1px 3px 1px rgba(60, 64, 67, 0.15);\n",
              "      fill: #174EA6;\n",
              "    }\n",
              "\n",
              "    [theme=dark] .colab-df-convert {\n",
              "      background-color: #3B4455;\n",
              "      fill: #D2E3FC;\n",
              "    }\n",
              "\n",
              "    [theme=dark] .colab-df-convert:hover {\n",
              "      background-color: #434B5C;\n",
              "      box-shadow: 0px 1px 3px 1px rgba(0, 0, 0, 0.15);\n",
              "      filter: drop-shadow(0px 1px 2px rgba(0, 0, 0, 0.3));\n",
              "      fill: #FFFFFF;\n",
              "    }\n",
              "  </style>\n",
              "\n",
              "      <script>\n",
              "        const buttonEl =\n",
              "          document.querySelector('#df-64169b2d-34d9-442b-92a1-d55f998430ef button.colab-df-convert');\n",
              "        buttonEl.style.display =\n",
              "          google.colab.kernel.accessAllowed ? 'block' : 'none';\n",
              "\n",
              "        async function convertToInteractive(key) {\n",
              "          const element = document.querySelector('#df-64169b2d-34d9-442b-92a1-d55f998430ef');\n",
              "          const dataTable =\n",
              "            await google.colab.kernel.invokeFunction('convertToInteractive',\n",
              "                                                     [key], {});\n",
              "          if (!dataTable) return;\n",
              "\n",
              "          const docLinkHtml = 'Like what you see? Visit the ' +\n",
              "            '<a target=\"_blank\" href=https://colab.research.google.com/notebooks/data_table.ipynb>data table notebook</a>'\n",
              "            + ' to learn more about interactive tables.';\n",
              "          element.innerHTML = '';\n",
              "          dataTable['output_type'] = 'display_data';\n",
              "          await google.colab.output.renderOutput(dataTable, element);\n",
              "          const docLink = document.createElement('div');\n",
              "          docLink.innerHTML = docLinkHtml;\n",
              "          element.appendChild(docLink);\n",
              "        }\n",
              "      </script>\n",
              "    </div>\n",
              "  </div>\n",
              "  "
            ],
            "text/plain": [
              "  fuel_type  wheel_base  length  width  heights  curb_weight  engine_size  \\\n",
              "0       gas        88.6   168.8   64.1     48.8         2548          130   \n",
              "1       gas        88.6   168.8   64.1     48.8         2548          130   \n",
              "2       gas        94.5   171.2   65.5     52.4         2823          152   \n",
              "3       gas        99.8   176.6   66.2     54.3         2337          109   \n",
              "4       gas        99.4   176.6   66.4     54.3         2824          136   \n",
              "\n",
              "   bore  stroke  compression  horse_power  peak_rpm  city_mpg  highway_mpg  \\\n",
              "0  3.47    2.68          9.0        111.0    5000.0        21           27   \n",
              "1  3.47    2.68          9.0        111.0    5000.0        21           27   \n",
              "2  2.68    3.47          9.0        154.0    5000.0        19           26   \n",
              "3  3.19    3.40         10.0        102.0    5500.0        24           30   \n",
              "4  3.19    3.40          8.0        115.0    5500.0        18           22   \n",
              "\n",
              "   price  \n",
              "0  13495  \n",
              "1  16500  \n",
              "2  16500  \n",
              "3  13950  \n",
              "4  17450  "
            ]
          },
          "execution_count": 11,
          "metadata": {},
          "output_type": "execute_result"
        }
      ],
      "source": [
        "#Your code\n",
        "df2.head()"
      ]
    },
    {
      "cell_type": "code",
      "execution_count": 12,
      "id": "b282a284",
      "metadata": {
        "id": "b282a284"
      },
      "outputs": [],
      "source": [
        "df2.replace(to_replace=['gas'],value=[0],inplace=True)"
      ]
    },
    {
      "cell_type": "code",
      "execution_count": 13,
      "id": "8de8a895",
      "metadata": {
        "colab": {
          "base_uri": "https://localhost:8080/",
          "height": 270
        },
        "id": "8de8a895",
        "outputId": "225fae6f-42ec-42a0-858a-d56751ccfce2"
      },
      "outputs": [
        {
          "data": {
            "text/html": [
              "\n",
              "  <div id=\"df-6a964e4e-3982-4e06-922f-29b97057419e\">\n",
              "    <div class=\"colab-df-container\">\n",
              "      <div>\n",
              "<style scoped>\n",
              "    .dataframe tbody tr th:only-of-type {\n",
              "        vertical-align: middle;\n",
              "    }\n",
              "\n",
              "    .dataframe tbody tr th {\n",
              "        vertical-align: top;\n",
              "    }\n",
              "\n",
              "    .dataframe thead th {\n",
              "        text-align: right;\n",
              "    }\n",
              "</style>\n",
              "<table border=\"1\" class=\"dataframe\">\n",
              "  <thead>\n",
              "    <tr style=\"text-align: right;\">\n",
              "      <th></th>\n",
              "      <th>fuel_type</th>\n",
              "      <th>wheel_base</th>\n",
              "      <th>length</th>\n",
              "      <th>width</th>\n",
              "      <th>heights</th>\n",
              "      <th>curb_weight</th>\n",
              "      <th>engine_size</th>\n",
              "      <th>bore</th>\n",
              "      <th>stroke</th>\n",
              "      <th>compression</th>\n",
              "      <th>horse_power</th>\n",
              "      <th>peak_rpm</th>\n",
              "      <th>city_mpg</th>\n",
              "      <th>highway_mpg</th>\n",
              "      <th>price</th>\n",
              "    </tr>\n",
              "  </thead>\n",
              "  <tbody>\n",
              "    <tr>\n",
              "      <th>0</th>\n",
              "      <td>0</td>\n",
              "      <td>88.6</td>\n",
              "      <td>168.8</td>\n",
              "      <td>64.1</td>\n",
              "      <td>48.8</td>\n",
              "      <td>2548</td>\n",
              "      <td>130</td>\n",
              "      <td>3.47</td>\n",
              "      <td>2.68</td>\n",
              "      <td>9.0</td>\n",
              "      <td>111.0</td>\n",
              "      <td>5000.0</td>\n",
              "      <td>21</td>\n",
              "      <td>27</td>\n",
              "      <td>13495</td>\n",
              "    </tr>\n",
              "    <tr>\n",
              "      <th>1</th>\n",
              "      <td>0</td>\n",
              "      <td>88.6</td>\n",
              "      <td>168.8</td>\n",
              "      <td>64.1</td>\n",
              "      <td>48.8</td>\n",
              "      <td>2548</td>\n",
              "      <td>130</td>\n",
              "      <td>3.47</td>\n",
              "      <td>2.68</td>\n",
              "      <td>9.0</td>\n",
              "      <td>111.0</td>\n",
              "      <td>5000.0</td>\n",
              "      <td>21</td>\n",
              "      <td>27</td>\n",
              "      <td>16500</td>\n",
              "    </tr>\n",
              "    <tr>\n",
              "      <th>2</th>\n",
              "      <td>0</td>\n",
              "      <td>94.5</td>\n",
              "      <td>171.2</td>\n",
              "      <td>65.5</td>\n",
              "      <td>52.4</td>\n",
              "      <td>2823</td>\n",
              "      <td>152</td>\n",
              "      <td>2.68</td>\n",
              "      <td>3.47</td>\n",
              "      <td>9.0</td>\n",
              "      <td>154.0</td>\n",
              "      <td>5000.0</td>\n",
              "      <td>19</td>\n",
              "      <td>26</td>\n",
              "      <td>16500</td>\n",
              "    </tr>\n",
              "    <tr>\n",
              "      <th>3</th>\n",
              "      <td>0</td>\n",
              "      <td>99.8</td>\n",
              "      <td>176.6</td>\n",
              "      <td>66.2</td>\n",
              "      <td>54.3</td>\n",
              "      <td>2337</td>\n",
              "      <td>109</td>\n",
              "      <td>3.19</td>\n",
              "      <td>3.40</td>\n",
              "      <td>10.0</td>\n",
              "      <td>102.0</td>\n",
              "      <td>5500.0</td>\n",
              "      <td>24</td>\n",
              "      <td>30</td>\n",
              "      <td>13950</td>\n",
              "    </tr>\n",
              "    <tr>\n",
              "      <th>4</th>\n",
              "      <td>0</td>\n",
              "      <td>99.4</td>\n",
              "      <td>176.6</td>\n",
              "      <td>66.4</td>\n",
              "      <td>54.3</td>\n",
              "      <td>2824</td>\n",
              "      <td>136</td>\n",
              "      <td>3.19</td>\n",
              "      <td>3.40</td>\n",
              "      <td>8.0</td>\n",
              "      <td>115.0</td>\n",
              "      <td>5500.0</td>\n",
              "      <td>18</td>\n",
              "      <td>22</td>\n",
              "      <td>17450</td>\n",
              "    </tr>\n",
              "  </tbody>\n",
              "</table>\n",
              "</div>\n",
              "      <button class=\"colab-df-convert\" onclick=\"convertToInteractive('df-6a964e4e-3982-4e06-922f-29b97057419e')\"\n",
              "              title=\"Convert this dataframe to an interactive table.\"\n",
              "              style=\"display:none;\">\n",
              "        \n",
              "  <svg xmlns=\"http://www.w3.org/2000/svg\" height=\"24px\"viewBox=\"0 0 24 24\"\n",
              "       width=\"24px\">\n",
              "    <path d=\"M0 0h24v24H0V0z\" fill=\"none\"/>\n",
              "    <path d=\"M18.56 5.44l.94 2.06.94-2.06 2.06-.94-2.06-.94-.94-2.06-.94 2.06-2.06.94zm-11 1L8.5 8.5l.94-2.06 2.06-.94-2.06-.94L8.5 2.5l-.94 2.06-2.06.94zm10 10l.94 2.06.94-2.06 2.06-.94-2.06-.94-.94-2.06-.94 2.06-2.06.94z\"/><path d=\"M17.41 7.96l-1.37-1.37c-.4-.4-.92-.59-1.43-.59-.52 0-1.04.2-1.43.59L10.3 9.45l-7.72 7.72c-.78.78-.78 2.05 0 2.83L4 21.41c.39.39.9.59 1.41.59.51 0 1.02-.2 1.41-.59l7.78-7.78 2.81-2.81c.8-.78.8-2.07 0-2.86zM5.41 20L4 18.59l7.72-7.72 1.47 1.35L5.41 20z\"/>\n",
              "  </svg>\n",
              "      </button>\n",
              "      \n",
              "  <style>\n",
              "    .colab-df-container {\n",
              "      display:flex;\n",
              "      flex-wrap:wrap;\n",
              "      gap: 12px;\n",
              "    }\n",
              "\n",
              "    .colab-df-convert {\n",
              "      background-color: #E8F0FE;\n",
              "      border: none;\n",
              "      border-radius: 50%;\n",
              "      cursor: pointer;\n",
              "      display: none;\n",
              "      fill: #1967D2;\n",
              "      height: 32px;\n",
              "      padding: 0 0 0 0;\n",
              "      width: 32px;\n",
              "    }\n",
              "\n",
              "    .colab-df-convert:hover {\n",
              "      background-color: #E2EBFA;\n",
              "      box-shadow: 0px 1px 2px rgba(60, 64, 67, 0.3), 0px 1px 3px 1px rgba(60, 64, 67, 0.15);\n",
              "      fill: #174EA6;\n",
              "    }\n",
              "\n",
              "    [theme=dark] .colab-df-convert {\n",
              "      background-color: #3B4455;\n",
              "      fill: #D2E3FC;\n",
              "    }\n",
              "\n",
              "    [theme=dark] .colab-df-convert:hover {\n",
              "      background-color: #434B5C;\n",
              "      box-shadow: 0px 1px 3px 1px rgba(0, 0, 0, 0.15);\n",
              "      filter: drop-shadow(0px 1px 2px rgba(0, 0, 0, 0.3));\n",
              "      fill: #FFFFFF;\n",
              "    }\n",
              "  </style>\n",
              "\n",
              "      <script>\n",
              "        const buttonEl =\n",
              "          document.querySelector('#df-6a964e4e-3982-4e06-922f-29b97057419e button.colab-df-convert');\n",
              "        buttonEl.style.display =\n",
              "          google.colab.kernel.accessAllowed ? 'block' : 'none';\n",
              "\n",
              "        async function convertToInteractive(key) {\n",
              "          const element = document.querySelector('#df-6a964e4e-3982-4e06-922f-29b97057419e');\n",
              "          const dataTable =\n",
              "            await google.colab.kernel.invokeFunction('convertToInteractive',\n",
              "                                                     [key], {});\n",
              "          if (!dataTable) return;\n",
              "\n",
              "          const docLinkHtml = 'Like what you see? Visit the ' +\n",
              "            '<a target=\"_blank\" href=https://colab.research.google.com/notebooks/data_table.ipynb>data table notebook</a>'\n",
              "            + ' to learn more about interactive tables.';\n",
              "          element.innerHTML = '';\n",
              "          dataTable['output_type'] = 'display_data';\n",
              "          await google.colab.output.renderOutput(dataTable, element);\n",
              "          const docLink = document.createElement('div');\n",
              "          docLink.innerHTML = docLinkHtml;\n",
              "          element.appendChild(docLink);\n",
              "        }\n",
              "      </script>\n",
              "    </div>\n",
              "  </div>\n",
              "  "
            ],
            "text/plain": [
              "  fuel_type  wheel_base  length  width  heights  curb_weight  engine_size  \\\n",
              "0         0        88.6   168.8   64.1     48.8         2548          130   \n",
              "1         0        88.6   168.8   64.1     48.8         2548          130   \n",
              "2         0        94.5   171.2   65.5     52.4         2823          152   \n",
              "3         0        99.8   176.6   66.2     54.3         2337          109   \n",
              "4         0        99.4   176.6   66.4     54.3         2824          136   \n",
              "\n",
              "   bore  stroke  compression  horse_power  peak_rpm  city_mpg  highway_mpg  \\\n",
              "0  3.47    2.68          9.0        111.0    5000.0        21           27   \n",
              "1  3.47    2.68          9.0        111.0    5000.0        21           27   \n",
              "2  2.68    3.47          9.0        154.0    5000.0        19           26   \n",
              "3  3.19    3.40         10.0        102.0    5500.0        24           30   \n",
              "4  3.19    3.40          8.0        115.0    5500.0        18           22   \n",
              "\n",
              "   price  \n",
              "0  13495  \n",
              "1  16500  \n",
              "2  16500  \n",
              "3  13950  \n",
              "4  17450  "
            ]
          },
          "execution_count": 13,
          "metadata": {},
          "output_type": "execute_result"
        }
      ],
      "source": [
        "df2.head()"
      ]
    },
    {
      "cell_type": "code",
      "execution_count": 14,
      "id": "ff06743f",
      "metadata": {
        "id": "ff06743f"
      },
      "outputs": [],
      "source": [
        "df2.replace(to_replace=['diesel'],value=[1],inplace=True)"
      ]
    },
    {
      "cell_type": "code",
      "execution_count": 15,
      "id": "01443433",
      "metadata": {
        "colab": {
          "base_uri": "https://localhost:8080/",
          "height": 174
        },
        "id": "01443433",
        "outputId": "8aac5287-5687-4f80-d7ea-14bf27706f4a"
      },
      "outputs": [
        {
          "data": {
            "application/vnd.google.colaboratory.intrinsic+json": {
              "type": "string"
            },
            "text/plain": [
              "'     fuel_type  wheel_base  length  width  heights  curb_weight  engine_size  bore  stroke  compression  horse_power  peak_rpm  city_mpg  highway_mpg  price\\n0            0        88.6   168.8   64.1     48.8         2548          130  3.47    2.68         9.00        111.0    5000.0        21           27  13495\\n1            0        88.6   168.8   64.1     48.8         2548          130  3.47    2.68         9.00        111.0    5000.0        21           27  16500\\n2            0        94.5   171.2   65.5     52.4         2823          152  2.68    3.47         9.00        154.0    5000.0        19           26  16500\\n3            0        99.8   176.6   66.2     54.3         2337          109  3.19    3.40        10.00        102.0    5500.0        24           30  13950\\n4            0        99.4   176.6   66.4     54.3         2824          136  3.19    3.40         8.00        115.0    5500.0        18           22  17450\\n5            0        99.8   177.3   66.3     53.1         2507          136  3.19    3.40         8.50        110.0    5500.0        19           25  15250\\n6            0       105.8   192.7   71.4     55.7         2844          136  3.19    3.40         8.50        110.0    5500.0        19           25  17710\\n7            0       105.8   192.7   71.4     55.7         2954          136  3.19    3.40         8.50        110.0    5500.0        19           25  18920\\n8            0       105.8   192.7   71.4     55.9         3086          131  3.13    3.40         8.30        140.0    5500.0        17           20  23875\\n9            0       101.2   176.8   64.8     54.3         2395          108  3.50    2.80         8.80        101.0    5800.0        23           29  16430\\n10           0       101.2   176.8   64.8     54.3         2395          108  3.50    2.80         8.80        101.0    5800.0        23           29  16925\\n11           0       101.2   176.8   64.8     54.3         2710          164  3.31    3.19         9.00        121.0    4250.0        21           28  20970\\n12           0       101.2   176.8   64.8     54.3         2765          164  3.31    3.19         9.00        121.0    4250.0        21           28  21105\\n13           0       103.5   189.0   66.9     55.7         3055          164  3.31    3.19         9.00        121.0    4250.0        20           25  24565\\n14           0       103.5   189.0   66.9     55.7         3230          209  3.62    3.39         8.00        182.0    5400.0        16           22  30760\\n15           0       103.5   193.8   67.9     53.7         3380          209  3.62    3.39         8.00        182.0    5400.0        16           22  41315\\n16           0       110.0   197.0   70.9     56.3         3505          209  3.62    3.39         8.00        182.0    5400.0        15           20  36880\\n17           0        88.4   141.1   60.3     53.2         1488           61  2.91    3.03         9.50         48.0    5100.0        47           53   5151\\n18           0        94.5   155.9   63.6     52.0         1874           90  3.03    3.11         9.60         70.0    5400.0        38           43   6295\\n19           0        94.5   158.8   63.6     52.0         1909           90  3.03    3.11         9.60         70.0    5400.0        38           43   6575\\n20           0        93.7   157.3   63.8     50.8         1876           90  2.97    3.23         9.41         68.0    5500.0        37           41   5572\\n21           0        93.7   157.3   63.8     50.8         1876           90  2.97    3.23         9.40         68.0    5500.0        31           38   6377\\n22           0        93.7   157.3   63.8     50.8         2128           98  3.03    3.39         7.60        102.0    5500.0        24           30   7957\\n23           0        93.7   157.3   63.8     50.6         1967           90  2.97    3.23         9.40         68.0    5500.0        31           38   6229\\n24           0        93.7   157.3   63.8     50.6         1989           90  2.97    3.23         9.40         68.0    5500.0        31           38   6692\\n25           0        93.7   157.3   63.8     50.6         1989           90  2.97    3.23         9.40         68.0    5500.0        31           38   7609\\n26           0        93.7   157.3   63.8     50.6         2191           98  3.03    3.39         7.60        102.0    5500.0        24           30   8558\\n27           0       103.3   174.6   64.6     59.8         2535          122  3.34    3.46         8.50         88.0    5000.0        24           30   8921\\n28           0        95.9   173.2   66.3     50.2         2811          156  3.60    3.90         7.00        145.0    5000.0        19           24  12964\\n29           0        86.6   144.6   63.9     50.8         1713           92  2.91    3.41         9.60         58.0    4800.0        49           54   6479\\n30           0        86.6   144.6   63.9     50.8         1819           92  2.91    3.41         9.20         76.0    6000.0        31           38   6855\\n31           0        93.7   150.0   64.0     52.6         1837           79  2.91    3.07        10.10         60.0    5500.0        38           42   5399\\n32           0        93.7   150.0   64.0     52.6         1940           92  2.91    3.41         9.20         76.0    6000.0        30           34   6529\\n33           0        93.7   150.0   64.0     52.6         1956           92  2.91    3.41         9.20         76.0    6000.0        30           34   7129\\n34           0        96.5   163.4   64.0     54.5         2010           92  2.91    3.41         9.20         76.0    6000.0        30           34   7295\\n35           0        96.5   157.1   63.9     58.3         2024           92  2.92    3.41         9.20         76.0    6000.0        30           34   7295\\n36           0        96.5   167.5   65.2     53.3         2236          110  3.15    3.58         9.00         86.0    5800.0        27           33   7895\\n37           0        96.5   167.5   65.2     53.3         2289          110  3.15    3.58         9.00         86.0    5800.0        27           33   9095\\n38           0        96.5   175.4   65.2     54.1         2304          110  3.15    3.58         9.00         86.0    5800.0        27           33   8845\\n39           0        96.5   175.4   62.5     54.1         2372          110  3.15    3.58         9.00         86.0    5800.0        27           33  10295\\n40           0        96.5   175.4   65.2     54.1         2465          110  3.15    3.58         9.00        101.0    5800.0        24           28  12945\\n41           0        96.5   169.1   66.0     51.0         2293          110  3.15    3.58         9.10        100.0    5500.0        25           31  10345\\n42           0        94.3   170.7   61.8     53.5         2337          111  3.31    3.23         8.50         78.0    4800.0        24           29   6785\\n43           0        96.0   172.6   65.2     51.4         2734          119  3.43    3.23         9.20         90.0    5000.0        24           29  11048\\n44           0       113.0   199.6   69.6     52.8         4066          258  3.63    4.17         8.10        176.0    4750.0        15           19  32250\\n45           0       113.0   199.6   69.6     52.8         4066          258  3.63    4.17         8.10        176.0    4750.0        15           19  35550\\n46           0       102.0   191.7   70.6     47.8         3950          326  3.54    2.76        11.50        262.0    5000.0        13           17  36000\\n47           0        93.1   159.1   64.2     54.1         1890           91  3.03    3.15         9.00         68.0    5000.0        30           31   5195\\n48           0        93.1   159.1   64.2     54.1         1900           91  3.03    3.15         9.00         68.0    5000.0        31           38   6095\\n49           0        93.1   159.1   64.2     54.1         1905           91  3.03    3.15         9.00         68.0    5000.0        31           38   6795\\n50           0        93.1   166.8   64.2     54.1         1945           91  3.03    3.15         9.00         68.0    5000.0        31           38   6695\\n51           0        93.1   166.8   64.2     54.1         1950           91  3.08    3.15         9.00         68.0    5000.0        31           38   7395\\n56           0        98.8   177.8   66.5     53.7         2385          122  3.39    3.39         8.60         84.0    4800.0        26           32   8845\\n57           0        98.8   177.8   66.5     55.5         2410          122  3.39    3.39         8.60         84.0    4800.0        26           32   8495\\n58           0        98.8   177.8   66.5     53.7         2385          122  3.39    3.39         8.60         84.0    4800.0        26           32  10595\\n59           0        98.8   177.8   66.5     55.5         2410          122  3.39    3.39         8.60         84.0    4800.0        26           32  10245\\n60           1        98.8   177.8   66.5     55.5         2443          122  3.39    3.39        22.70         64.0    4650.0        36           42  10795\\n61           0        98.8   177.8   66.5     55.5         2425          122  3.39    3.39         8.60         84.0    4800.0        26           32  11245\\n62           0       104.9   175.0   66.1     54.4         2670          140  3.76    3.16         8.00        120.0    5000.0        19           27  18280\\n63           1       104.9   175.0   66.1     54.4         2700          134  3.43    3.64        22.00         72.0    4200.0        31           39  18344\\n64           1       110.0   190.9   70.3     56.5         3515          183  3.58    3.64        21.50        123.0    4350.0        22           25  25552\\n65           1       110.0   190.9   70.3     58.7         3750          183  3.58    3.64        21.50        123.0    4350.0        22           25  28248\\n66           1       106.7   187.5   70.3     54.9         3495          183  3.58    3.64        21.50        123.0    4350.0        22           25  28176\\n67           1       115.6   202.6   71.7     56.3         3770          183  3.58    3.64        21.50        123.0    4350.0        22           25  31600\\n68           0       115.6   202.6   71.7     56.5         3740          234  3.46    3.10         8.30        155.0    4750.0        16           18  34184\\n69           0        96.6   180.3   70.5     50.8         3685          234  3.46    3.10         8.30        155.0    4750.0        16           18  35056\\n70           0       120.9   208.1   71.7     56.7         3900          308  3.80    3.35         8.00        184.0    4500.0        14           16  40960\\n71           0       112.0   199.2   72.0     55.4         3715          304  3.80    3.35         8.00        184.0    4500.0        14           16  45400\\n72           0       102.7   178.4   68.0     54.8         2910          140  3.78    3.12         8.00        175.0    5000.0        19           24  16503\\n73           0        93.7   157.3   64.4     50.8         1918           92  2.97    3.23         9.40         68.0    5500.0        37           41   5389\\n74           0        93.7   157.3   64.4     50.8         1944           92  2.97    3.23         9.40         68.0    5500.0        31           38   6189\\n75           0        93.7   157.3   64.4     50.8         2004           92  2.97    3.23         9.40         68.0    5500.0        31           38   6669\\n76           0        93.0   157.3   63.8     50.8         2145           98  3.03    3.39         7.60        102.0    5500.0        24           30   7689\\n77           0        96.3   173.0   65.4     49.4         2370          110  3.17    3.46         7.50        116.0    5500.0        23           30   9959\\n78           0        96.3   173.0   65.4     49.4         2328          122  3.35    3.46         8.50         88.0    5000.0        25           32   8499\\n79           0        95.9   173.2   66.3     50.2         2833          156  3.58    3.86         7.00        145.0    5000.0        19           24  12629\\n80           0        95.9   173.2   66.3     50.2         2921          156  3.59    3.86         7.00        145.0    5000.0        19           24  14869\\n81           0        95.9   173.2   66.3     50.2         2926          156  3.59    3.86         7.00        145.0    5000.0        19           24  14489\\n82           0        96.3   172.4   65.4     51.6         2365          122  3.35    3.46         8.50         88.0    5000.0        25           32   6989\\n83           0        96.3   172.4   65.4     51.6         2405          122  3.35    3.46         8.50         88.0    5000.0        25           32   8189\\n84           0        96.3   172.4   65.4     51.6         2403          110  3.17    3.46         7.50        116.0    5500.0        23           30   9279\\n85           0        96.3   172.4   65.4     51.6         2403          110  3.17    3.46         7.50        116.0    5500.0        23           30   9279\\n86           0        94.5   165.3   63.8     54.5         1889           97  3.15    3.29         9.40         69.0    5200.0        31           37   5499\\n87           1        94.5   165.3   63.8     54.5         2017          103  2.99    3.47        21.90         55.0    4800.0        45           50   7099\\n88           0        94.5   165.3   63.8     54.5         1918           97  3.15    3.29         9.40         69.0    5200.0        31           37   6649\\n89           0        94.5   165.3   63.8     54.5         1938           97  3.15    3.29         9.40         69.0    5200.0        31           37   6849\\n90           0        94.5   170.2   63.8     53.5         2024           97  3.15    3.29         9.40         69.0    5200.0        31           37   7349\\n91           0        94.5   165.3   63.8     54.5         1951           97  3.15    3.29         9.40         69.0    5200.0        31           37   7299\\n92           0        94.5   165.6   63.8     53.3         2028           97  3.15    3.29         9.40         69.0    5200.0        31           37   7799\\n93           0        94.5   165.3   63.8     54.5         1971           97  3.15    3.29         9.40         69.0    5200.0        31           37   7499\\n94           0        94.5   170.2   63.8     53.5         2037           97  3.15    3.29         9.40         69.0    5200.0        31           37   7999\\n95           0        95.1   162.4   63.8     53.3         2008           97  3.15    3.29         9.40         69.0    5200.0        31           37   8249\\n96           0        97.2   173.4   65.2     54.7         2324          120  3.33    3.47         8.50         97.0    5200.0        27           34   8949\\n97           0        97.2   173.4   65.2     54.7         2302          120  3.33    3.47         8.50         97.0    5200.0        27           34   9549\\n98           0       100.4   181.7   66.5     55.1         3095          181  3.43    3.27         9.00        152.0    5200.0        17           22  13499\\n99           0       100.4   184.6   66.5     56.1         3296          181  3.43    3.27         9.00        152.0    5200.0        17           22  14399\\n100          0       100.4   184.6   66.5     55.1         3060          181  3.43    3.27         9.00        152.0    5200.0        19           25  13499\\n101          0        91.3   170.7   67.9     49.7         3071          181  3.43    3.27         9.00        160.0    5200.0        19           25  17199\\n102          0        91.3   170.7   67.9     49.7         3139          181  3.43    3.27         7.80        200.0    5200.0        17           23  19699\\n103          0        99.2   178.5   67.9     49.7         3139          181  3.43    3.27         9.00        160.0    5200.0        19           25  18399\\n104          0       107.9   186.7   68.4     56.7         3020          120  3.46    3.19         8.40         97.0    5000.0        19           24  11900\\n105          1       107.9   186.7   68.4     56.7         3197          152  3.70    3.52        21.00         95.0    4150.0        28           33  13200\\n106          0       114.2   198.9   68.4     58.7         3230          120  3.46    3.19         8.40         97.0    5000.0        19           24  12440\\n107          1       114.2   198.9   68.4     58.7         3430          152  3.70    3.52        21.00         95.0    4150.0        25           25  13860\\n108          0       107.9   186.7   68.4     56.7         3075          120  3.46    2.19         8.40         95.0    5000.0        19           24  15580\\n109          1       107.9   186.7   68.4     56.7         3252          152  3.70    3.52        21.00         95.0    4150.0        28           33  16900\\n110          0       114.2   198.9   68.4     56.7         3285          120  3.46    2.19         8.40         95.0    5000.0        19           24  16695\\n111          1       114.2   198.9   68.4     58.7         3485          152  3.70    3.52        21.00         95.0    4150.0        25           25  17075\\n112          0       107.9   186.7   68.4     56.7         3075          120  3.46    3.19         8.40         97.0    5000.0        19           24  16630\\n113          1       107.9   186.7   68.4     56.7         3252          152  3.70    3.52        21.00         95.0    4150.0        28           33  17950\\n114          0       108.0   186.7   68.3     56.0         3130          134  3.61    3.21         7.00        142.0    5600.0        18           24  18150\\n115          0        93.7   157.3   63.8     50.8         1918           90  2.97    3.23         9.40         68.0    5500.0        37           41   5572\\n116          0        93.7   157.3   63.8     50.8         2128           98  3.03    3.39         7.60        102.0    5500.0        24           30   7957\\n117          0        93.7   157.3   63.8     50.6         1967           90  2.97    3.23         9.40         68.0    5500.0        31           38   6229\\n118          0        93.7   167.3   63.8     50.8         1989           90  2.97    3.23         9.40         68.0    5500.0        31           38   6692\\n119          0        93.7   167.3   63.8     50.8         2191           98  2.97    3.23         9.40         68.0    5500.0        31           38   7609\\n120          0       103.3   174.6   64.6     59.8         2535          122  3.35    3.46         8.50         88.0    5000.0        24           30   8921\\n121          0        95.9   173.2   66.3     50.2         2818          156  3.59    3.86         7.00        145.0    5000.0        19           24  12764\\n122          0        94.5   168.9   68.3     50.2         2778          151  3.94    3.11         9.50        143.0    5500.0        19           27  22018\\n123          0        89.5   168.9   65.0     51.6         2756          194  3.74    2.90         9.50        207.0    5900.0        17           25  32528\\n124          0        89.5   168.9   65.0     51.6         2756          194  3.74    2.90         9.50        207.0    5900.0        17           25  34028\\n125          0        89.5   168.9   65.0     51.6         2800          194  3.74    2.90         9.50        207.0    5900.0        17           25  37028\\n128          0        99.1   186.6   66.5     56.1         2658          121  3.54    3.07         9.31        110.0    5250.0        21           28  11850\\n129          0        99.1   186.6   66.5     56.1         2695          121  3.54    3.07         9.30        110.0    5250.0        21           28  12170\\n130          0        99.1   186.6   66.5     56.1         2707          121  2.54    2.07         9.30        110.0    5250.0        21           28  15040\\n131          0        99.1   186.6   66.5     56.1         2758          121  3.54    3.07         9.30        110.0    5250.0        21           28  15510\\n132          0        99.1   186.6   66.5     56.1         2808          121  3.54    3.07         9.00        160.0    5500.0        19           26  18150\\n133          0        99.1   186.6   66.5     56.1         2847          121  3.54    3.07         9.00        160.0    5500.0        19           26  18620\\n134          0        93.7   156.9   63.4     53.7         2050           97  3.62    2.36         9.00         69.0    4900.0        31           36   5118\\n135          0        93.7   157.9   63.6     53.7         2120          108  3.62    2.64         8.70         73.0    4400.0        26           31   7053\\n136          0        93.3   157.3   63.8     55.7         2240          108  3.62    2.64         8.70         73.0    4400.0        26           31   7603\\n137          0        97.2   172.0   65.4     52.5         2145          108  3.62    2.64         9.50         82.0    4800.0        32           37   7126\\n138          0        97.2   172.0   65.4     52.5         2190          108  3.62    2.64         9.50         82.0    4400.0        28           33   7775\\n139          0        97.2   172.0   65.4     52.5         2340          108  3.62    2.64         9.00         94.0    5200.0        26           32   9960\\n140          0        97.0   172.0   65.4     54.3         2385          108  3.62    2.64         9.00         82.0    4800.0        24           25   9233\\n141          0        97.0   172.0   65.4     54.3         2510          108  3.62    2.64         7.70        111.0    4800.0        24           29  11259\\n142          0        97.0   173.5   65.4     53.0         2290          108  3.62    2.64         9.00         82.0    4800.0        28           32   7463\\n143          0        97.0   173.5   65.4     53.0         2455          108  3.62    2.64         9.00         94.0    5200.0        25           31  10198\\n144          0        96.9   173.6   65.4     54.9         2420          108  3.62    2.64         9.00         82.0    4800.0        23           29   8013\\n145          0        96.9   173.6   65.4     54.9         2650          108  3.62    2.64         7.70        111.0    4800.0        23           23  11694\\n146          0        95.7   158.7   63.6     54.5         1985           92  3.05    3.03         9.00         62.0    4800.0        35           39   5348\\n147          0        95.7   158.7   63.6     54.5         2040           92  3.05    3.03         9.00         62.0    4800.0        31           38   6338\\n148          0        95.7   158.7   63.6     54.5         2015           92  3.05    3.03         9.00         62.0    4800.0        31           38   6488\\n149          0        95.7   169.7   63.6     59.1         2280           92  3.05    3.03         9.00         62.0    4800.0        31           37   6918\\n150          0        95.7   169.7   63.6     59.1         2290           92  3.05    3.03         9.00         62.0    4800.0        27           32   7898\\n151          0        95.7   169.7   63.6     59.1         3110           92  3.05    3.03         9.00         62.0    4800.0        27           32   8778\\n152          0        95.7   166.3   64.4     53.0         2081           98  3.19    3.03         9.00         70.0    4800.0        30           37   6938\\n153          0        95.7   166.3   64.4     52.8         2109           98  3.19    3.03         9.00         70.0    4800.0        30           37   7198\\n154          1        95.7   166.3   64.4     53.0         2275          110  3.27    3.35        22.50         56.0    4500.0        34           36   7898\\n155          1        95.7   166.3   64.4     52.8         2275          110  3.27    3.35        22.50         56.0    4500.0        38           47   7788\\n156          0        95.7   166.3   64.4     53.0         2094           98  3.19    3.03         9.00         70.0    4800.0        38           47   7738\\n157          0        95.7   166.3   64.4     52.8         2122           98  3.19    3.03         9.00         70.0    4800.0        28           34   8358\\n158          0        95.7   166.3   64.4     52.8         2140           98  3.19    3.03         9.00         70.0    4800.0        28           34   9258\\n159          0        94.5   168.7   64.0     52.6         2169           98  3.19    3.03         9.00         70.0    4800.0        29           34   8058\\n160          0        94.5   168.7   64.0     52.6         2204           98  3.19    3.03         9.00         70.0    4800.0        29           34   8238\\n161          0        94.5   168.7   64.0     52.6         2265           98  3.24    3.08         9.40        112.0    6600.0        26           29   9298\\n162          0        94.5   168.7   64.0     52.6         2300           98  3.24    3.08         9.40        112.0    6600.0        26           29   9538\\n163          0        98.4   176.2   65.6     52.0         2540          146  3.62    3.50         9.30        116.0    4800.0        24           30   8449\\n164          0        98.4   176.2   65.6     52.0         2536          146  3.62    3.50         9.30        116.0    4800.0        24           30   9639\\n165          0        98.4   176.2   65.6     52.0         2551          146  3.62    3.50         9.30        116.0    4800.0        24           30   9989\\n166          0        98.4   176.2   65.6     52.0         2679          146  3.62    3.50         9.30        116.0    4800.0        24           30  11199\\n167          0        98.4   176.2   65.6     52.0         2714          146  3.62    3.50         9.30        116.0    4800.0        24           30  11549\\n168          0        98.4   176.2   65.6     53.0         2975          146  3.62    3.50         9.30        116.0    4800.0        24           30  17669\\n169          0       102.4   175.6   66.5     54.9         2326          122  3.31    3.54         8.70         92.0    4200.0        29           34   8948\\n170          1       102.4   175.6   66.5     54.9         2480          110  3.27    3.35        22.50         73.0    4500.0        30           33  10698\\n171          0       102.4   175.6   66.5     53.9         2414          122  3.31    3.54         8.70         92.0    4200.0        27           32   9988\\n172          0       102.4   175.6   66.5     54.9         2414          122  3.31    3.54         8.70         92.0    4200.0        27           32  10898\\n173          0       102.4   175.6   66.5     53.9         2458          122  3.31    3.54         8.70         92.0    4200.0        27           32  11248\\n174          0       102.9   183.5   67.7     52.0         2976          171  3.27    3.35         9.30        161.0    5200.0        20           24  16558\\n175          0       102.9   183.5   67.7     52.0         3016          171  3.27    3.35         9.30        161.0    5200.0        19           24  15998\\n176          0       104.5   187.8   66.5     54.1         3131          171  3.27    3.35         9.20        156.0    5200.0        20           24  15690\\n177          0       104.5   187.8   66.5     54.1         3151          161  3.27    3.35         9.20        156.0    5200.0        19           24  15750\\n178          1        97.3   171.7   65.5     55.7         2261           97  3.01    3.40        23.00         52.0    4800.0        37           46   7775\\n179          0        97.3   171.7   65.5     55.7         2209          109  3.19    3.40         9.00         85.0    5250.0        27           34   7975\\n180          1        97.3   171.7   65.5     55.7         2264           97  3.01    3.40        23.00         52.0    4800.0        37           46   7995\\n181          0        97.3   171.7   65.5     55.7         2212          109  3.19    3.40         9.00         85.0    5250.0        27           34   8195\\n182          0        97.3   171.7   65.5     55.7         2275          109  3.19    3.40         9.00         85.0    5250.0        27           34   8495\\n183          1        97.3   171.7   65.5     55.7         2319           97  3.01    3.40        23.00         68.0    4500.0        37           42   9495\\n184          0        97.3   171.7   65.5     55.7         2300          109  3.19    3.40        10.00        100.0    5500.0        26           32   9995\\n185          0        94.5   159.3   64.2     55.6         2254          109  3.19    3.40         8.50         90.0    5500.0        24           29  11595\\n186          0        94.5   165.7   64.0     51.4         2221          109  3.19    3.40         8.50         90.0    5500.0        24           29   9980\\n187          0       100.4   180.2   66.9     55.1         2661          136  3.19    3.40         8.50        110.0    5500.0        19           24  13295\\n188          1       100.4   180.2   66.9     55.1         2579           97  3.01    3.40        23.00         68.0    4500.0        33           38  13845\\n189          0       100.4   183.1   66.9     55.1         2563          109  3.19    3.40         9.00         88.0    5500.0        25           31  12290\\n190          0       104.3   188.8   67.2     56.2         2912          141  3.78    3.15         9.50        114.0    5400.0        23           28  12940\\n191          0       104.3   188.8   67.2     57.5         3034          141  3.78    3.15         9.50        114.0    5400.0        23           28  13415\\n192          0       104.3   188.8   67.2     56.2         2935          141  3.78    3.15         9.50        114.0    5400.0        24           28  15985\\n193          0       104.3   188.8   67.2     57.5         3042          141  3.78    3.15         9.50        114.0    5400.0        24           28  16515\\n194          0       104.3   188.8   67.2     56.2         3045          130  3.62    3.15         7.50        162.0    5100.0        17           22  18420\\n195          0       104.3   188.8   67.2     57.5         3157          130  3.62    3.15         7.50        162.0    5100.0        17           22  18950\\n196          0       109.1   188.8   68.9     55.5         2952          141  3.78    3.15         9.50        114.0    5400.0        23           28  16845\\n197          0       109.1   188.8   68.8     55.5         3049          141  3.78    3.15         8.70        160.0    5300.0        19           25  19045\\n198          0       109.1   188.8   68.9     55.5         3012          173  3.58    2.87         8.80        134.0    5500.0        18           23  21485\\n199          1       109.1   188.8   68.9     55.5         3217          145  3.01    3.40        23.00        106.0    4800.0        26           27  22470\\n200          0       109.1   188.8   68.9     55.5         3062          141  3.78    3.15         9.50        114.0    5400.0        19           25  22625'"
            ]
          },
          "metadata": {},
          "output_type": "display_data"
        }
      ],
      "source": [
        "display(df2.to_string())"
      ]
    },
    {
      "cell_type": "code",
      "execution_count": 16,
      "id": "4695028d",
      "metadata": {
        "colab": {
          "base_uri": "https://localhost:8080/"
        },
        "id": "4695028d",
        "outputId": "90c92aa0-b601-4810-9ce2-7d9c52397133"
      },
      "outputs": [
        {
          "name": "stdout",
          "output_type": "stream",
          "text": [
            "<class 'pandas.core.frame.DataFrame'>\n",
            "Int64Index: 195 entries, 0 to 200\n",
            "Data columns (total 15 columns):\n",
            " #   Column       Non-Null Count  Dtype  \n",
            "---  ------       --------------  -----  \n",
            " 0   fuel_type    195 non-null    int64  \n",
            " 1   wheel_base   195 non-null    float64\n",
            " 2   length       195 non-null    float64\n",
            " 3   width        195 non-null    float64\n",
            " 4   heights      195 non-null    float64\n",
            " 5   curb_weight  195 non-null    int64  \n",
            " 6   engine_size  195 non-null    int64  \n",
            " 7   bore         195 non-null    float64\n",
            " 8   stroke       195 non-null    float64\n",
            " 9   compression  195 non-null    float64\n",
            " 10  horse_power  195 non-null    float64\n",
            " 11  peak_rpm     195 non-null    float64\n",
            " 12  city_mpg     195 non-null    int64  \n",
            " 13  highway_mpg  195 non-null    int64  \n",
            " 14  price        195 non-null    int64  \n",
            "dtypes: float64(9), int64(6)\n",
            "memory usage: 24.4 KB\n"
          ]
        }
      ],
      "source": [
        "df2.info()"
      ]
    },
    {
      "cell_type": "code",
      "execution_count": 17,
      "id": "a2dbffbe",
      "metadata": {
        "id": "a2dbffbe"
      },
      "outputs": [],
      "source": [
        "df2 = df2.astype({'bore':'float','stroke':'float','horse_power':'float','peak_rpm':'float'})\n"
      ]
    },
    {
      "cell_type": "code",
      "execution_count": 18,
      "id": "34c10523",
      "metadata": {
        "colab": {
          "base_uri": "https://localhost:8080/"
        },
        "id": "34c10523",
        "outputId": "334ab7a2-1b3f-4b9d-b842-6c70fe96348f"
      },
      "outputs": [
        {
          "name": "stdout",
          "output_type": "stream",
          "text": [
            "<class 'pandas.core.frame.DataFrame'>\n",
            "Int64Index: 195 entries, 0 to 200\n",
            "Data columns (total 15 columns):\n",
            " #   Column       Non-Null Count  Dtype  \n",
            "---  ------       --------------  -----  \n",
            " 0   fuel_type    195 non-null    int64  \n",
            " 1   wheel_base   195 non-null    float64\n",
            " 2   length       195 non-null    float64\n",
            " 3   width        195 non-null    float64\n",
            " 4   heights      195 non-null    float64\n",
            " 5   curb_weight  195 non-null    int64  \n",
            " 6   engine_size  195 non-null    int64  \n",
            " 7   bore         195 non-null    float64\n",
            " 8   stroke       195 non-null    float64\n",
            " 9   compression  195 non-null    float64\n",
            " 10  horse_power  195 non-null    float64\n",
            " 11  peak_rpm     195 non-null    float64\n",
            " 12  city_mpg     195 non-null    int64  \n",
            " 13  highway_mpg  195 non-null    int64  \n",
            " 14  price        195 non-null    int64  \n",
            "dtypes: float64(9), int64(6)\n",
            "memory usage: 24.4 KB\n"
          ]
        }
      ],
      "source": [
        "df2.info()"
      ]
    },
    {
      "cell_type": "markdown",
      "id": "c3851124",
      "metadata": {
        "id": "c3851124"
      },
      "source": [
        " X and y:  dependent variable is fuel_type, the rest of the variables are your independent variables"
      ]
    },
    {
      "cell_type": "code",
      "execution_count": 19,
      "id": "f3735085",
      "metadata": {
        "id": "f3735085"
      },
      "outputs": [],
      "source": [
        "#your code\n",
        "x= df2.iloc[:, [1,2,3,4,5,6,7,8,9,10,11,12,13,14]].values  \n",
        "y= df2.iloc[:, 0].values  "
      ]
    },
    {
      "cell_type": "markdown",
      "id": "cf86f4df",
      "metadata": {
        "id": "cf86f4df"
      },
      "source": [
        "## Split  data into training and testing set. Use test_size=0.3, random_state=746 !"
      ]
    },
    {
      "cell_type": "code",
      "execution_count": 20,
      "id": "2e6c1b4f",
      "metadata": {
        "id": "2e6c1b4f"
      },
      "outputs": [],
      "source": [
        "#splitting the data into train and test\n",
        "from sklearn.model_selection import train_test_split  \n",
        "x_train, x_test, y_train, y_test= train_test_split(x, y, test_size= 0.3, random_state=746)  "
      ]
    },
    {
      "cell_type": "markdown",
      "id": "35ea935a",
      "metadata": {
        "id": "35ea935a"
      },
      "source": [
        "### 1 Use Logistic regression to classify data. Report confusion matrix, classification report and AUC"
      ]
    },
    {
      "cell_type": "code",
      "execution_count": 21,
      "id": "ab66e66a",
      "metadata": {
        "id": "ab66e66a"
      },
      "outputs": [],
      "source": [
        "from sklearn.model_selection import train_test_split  \n",
        "x_train, x_test, y_train, y_test= train_test_split(x, y, test_size= 0.3, random_state=746)  "
      ]
    },
    {
      "cell_type": "code",
      "execution_count": 22,
      "id": "34d9f80c",
      "metadata": {
        "colab": {
          "base_uri": "https://localhost:8080/",
          "height": 233
        },
        "id": "34d9f80c",
        "outputId": "13e4294c-01f6-4262-f007-2c22d27f0c15"
      },
      "outputs": [
        {
          "name": "stderr",
          "output_type": "stream",
          "text": [
            "/usr/local/lib/python3.10/dist-packages/sklearn/linear_model/_logistic.py:458: ConvergenceWarning: lbfgs failed to converge (status=1):\n",
            "STOP: TOTAL NO. of ITERATIONS REACHED LIMIT.\n",
            "\n",
            "Increase the number of iterations (max_iter) or scale the data as shown in:\n",
            "    https://scikit-learn.org/stable/modules/preprocessing.html\n",
            "Please also refer to the documentation for alternative solver options:\n",
            "    https://scikit-learn.org/stable/modules/linear_model.html#logistic-regression\n",
            "  n_iter_i = _check_optimize_result(\n"
          ]
        },
        {
          "data": {
            "text/html": [
              "<style>#sk-container-id-1 {color: black;background-color: white;}#sk-container-id-1 pre{padding: 0;}#sk-container-id-1 div.sk-toggleable {background-color: white;}#sk-container-id-1 label.sk-toggleable__label {cursor: pointer;display: block;width: 100%;margin-bottom: 0;padding: 0.3em;box-sizing: border-box;text-align: center;}#sk-container-id-1 label.sk-toggleable__label-arrow:before {content: \"▸\";float: left;margin-right: 0.25em;color: #696969;}#sk-container-id-1 label.sk-toggleable__label-arrow:hover:before {color: black;}#sk-container-id-1 div.sk-estimator:hover label.sk-toggleable__label-arrow:before {color: black;}#sk-container-id-1 div.sk-toggleable__content {max-height: 0;max-width: 0;overflow: hidden;text-align: left;background-color: #f0f8ff;}#sk-container-id-1 div.sk-toggleable__content pre {margin: 0.2em;color: black;border-radius: 0.25em;background-color: #f0f8ff;}#sk-container-id-1 input.sk-toggleable__control:checked~div.sk-toggleable__content {max-height: 200px;max-width: 100%;overflow: auto;}#sk-container-id-1 input.sk-toggleable__control:checked~label.sk-toggleable__label-arrow:before {content: \"▾\";}#sk-container-id-1 div.sk-estimator input.sk-toggleable__control:checked~label.sk-toggleable__label {background-color: #d4ebff;}#sk-container-id-1 div.sk-label input.sk-toggleable__control:checked~label.sk-toggleable__label {background-color: #d4ebff;}#sk-container-id-1 input.sk-hidden--visually {border: 0;clip: rect(1px 1px 1px 1px);clip: rect(1px, 1px, 1px, 1px);height: 1px;margin: -1px;overflow: hidden;padding: 0;position: absolute;width: 1px;}#sk-container-id-1 div.sk-estimator {font-family: monospace;background-color: #f0f8ff;border: 1px dotted black;border-radius: 0.25em;box-sizing: border-box;margin-bottom: 0.5em;}#sk-container-id-1 div.sk-estimator:hover {background-color: #d4ebff;}#sk-container-id-1 div.sk-parallel-item::after {content: \"\";width: 100%;border-bottom: 1px solid gray;flex-grow: 1;}#sk-container-id-1 div.sk-label:hover label.sk-toggleable__label {background-color: #d4ebff;}#sk-container-id-1 div.sk-serial::before {content: \"\";position: absolute;border-left: 1px solid gray;box-sizing: border-box;top: 0;bottom: 0;left: 50%;z-index: 0;}#sk-container-id-1 div.sk-serial {display: flex;flex-direction: column;align-items: center;background-color: white;padding-right: 0.2em;padding-left: 0.2em;position: relative;}#sk-container-id-1 div.sk-item {position: relative;z-index: 1;}#sk-container-id-1 div.sk-parallel {display: flex;align-items: stretch;justify-content: center;background-color: white;position: relative;}#sk-container-id-1 div.sk-item::before, #sk-container-id-1 div.sk-parallel-item::before {content: \"\";position: absolute;border-left: 1px solid gray;box-sizing: border-box;top: 0;bottom: 0;left: 50%;z-index: -1;}#sk-container-id-1 div.sk-parallel-item {display: flex;flex-direction: column;z-index: 1;position: relative;background-color: white;}#sk-container-id-1 div.sk-parallel-item:first-child::after {align-self: flex-end;width: 50%;}#sk-container-id-1 div.sk-parallel-item:last-child::after {align-self: flex-start;width: 50%;}#sk-container-id-1 div.sk-parallel-item:only-child::after {width: 0;}#sk-container-id-1 div.sk-dashed-wrapped {border: 1px dashed gray;margin: 0 0.4em 0.5em 0.4em;box-sizing: border-box;padding-bottom: 0.4em;background-color: white;}#sk-container-id-1 div.sk-label label {font-family: monospace;font-weight: bold;display: inline-block;line-height: 1.2em;}#sk-container-id-1 div.sk-label-container {text-align: center;}#sk-container-id-1 div.sk-container {/* jupyter's `normalize.less` sets `[hidden] { display: none; }` but bootstrap.min.css set `[hidden] { display: none !important; }` so we also need the `!important` here to be able to override the default hidden behavior on the sphinx rendered scikit-learn.org. See: https://github.com/scikit-learn/scikit-learn/issues/21755 */display: inline-block !important;position: relative;}#sk-container-id-1 div.sk-text-repr-fallback {display: none;}</style><div id=\"sk-container-id-1\" class=\"sk-top-container\"><div class=\"sk-text-repr-fallback\"><pre>LogisticRegression(random_state=0)</pre><b>In a Jupyter environment, please rerun this cell to show the HTML representation or trust the notebook. <br />On GitHub, the HTML representation is unable to render, please try loading this page with nbviewer.org.</b></div><div class=\"sk-container\" hidden><div class=\"sk-item\"><div class=\"sk-estimator sk-toggleable\"><input class=\"sk-toggleable__control sk-hidden--visually\" id=\"sk-estimator-id-1\" type=\"checkbox\" checked><label for=\"sk-estimator-id-1\" class=\"sk-toggleable__label sk-toggleable__label-arrow\">LogisticRegression</label><div class=\"sk-toggleable__content\"><pre>LogisticRegression(random_state=0)</pre></div></div></div></div></div>"
            ],
            "text/plain": [
              "LogisticRegression(random_state=0)"
            ]
          },
          "execution_count": 22,
          "metadata": {},
          "output_type": "execute_result"
        }
      ],
      "source": [
        "from sklearn.linear_model import LogisticRegression  \n",
        "classifier= LogisticRegression(random_state=0)  \n",
        "classifier.fit(x_train, y_train)  "
      ]
    },
    {
      "cell_type": "code",
      "execution_count": 23,
      "id": "5fe70fb6",
      "metadata": {
        "id": "5fe70fb6"
      },
      "outputs": [],
      "source": [
        "y_pred= classifier.predict(x_test)  \n"
      ]
    },
    {
      "cell_type": "code",
      "execution_count": 24,
      "id": "10807cc3",
      "metadata": {
        "id": "10807cc3"
      },
      "outputs": [],
      "source": [
        "from sklearn.metrics import confusion_matrix  \n",
        "cm= confusion_matrix(y_test, y_pred)  "
      ]
    },
    {
      "cell_type": "code",
      "execution_count": 25,
      "id": "99dc3ad8",
      "metadata": {
        "colab": {
          "base_uri": "https://localhost:8080/"
        },
        "id": "99dc3ad8",
        "outputId": "a1afd257-8c39-42f4-9ca5-09b9ee9aed3c"
      },
      "outputs": [
        {
          "data": {
            "text/plain": [
              "array([0, 0, 0, 0, 0, 0, 0, 0, 0, 0, 0, 1, 0, 0, 0, 0, 0, 0, 0, 0, 0, 0,\n",
              "       0, 1, 0, 0, 0, 0, 0, 1, 0, 0, 0, 1, 0, 0, 1, 0, 1, 0, 0, 0, 0, 0,\n",
              "       0, 0, 0, 0, 1, 0, 1, 1, 0, 0, 0, 0, 0, 0, 0])"
            ]
          },
          "execution_count": 25,
          "metadata": {},
          "output_type": "execute_result"
        }
      ],
      "source": [
        "y_pred"
      ]
    },
    {
      "cell_type": "code",
      "execution_count": 26,
      "id": "509a6b54",
      "metadata": {
        "colab": {
          "base_uri": "https://localhost:8080/"
        },
        "id": "509a6b54",
        "outputId": "fca161b4-a0fc-46fb-fecc-33d2118e8e2b"
      },
      "outputs": [
        {
          "data": {
            "text/plain": [
              "array([[50,  0],\n",
              "       [ 0,  9]])"
            ]
          },
          "execution_count": 26,
          "metadata": {},
          "output_type": "execute_result"
        }
      ],
      "source": [
        "cm"
      ]
    },
    {
      "cell_type": "code",
      "execution_count": 27,
      "id": "73e971ae",
      "metadata": {
        "colab": {
          "base_uri": "https://localhost:8080/"
        },
        "id": "73e971ae",
        "outputId": "cf418cf4-06eb-4134-b4db-c9c4ad7ee1ac"
      },
      "outputs": [
        {
          "name": "stdout",
          "output_type": "stream",
          "text": [
            "              precision    recall  f1-score   support\n",
            "\n",
            "           0       1.00      1.00      1.00        50\n",
            "           1       1.00      1.00      1.00         9\n",
            "\n",
            "    accuracy                           1.00        59\n",
            "   macro avg       1.00      1.00      1.00        59\n",
            "weighted avg       1.00      1.00      1.00        59\n",
            "\n"
          ]
        }
      ],
      "source": [
        "from sklearn.metrics import classification_report\n",
        "print(classification_report(y_test, y_pred))\n"
      ]
    },
    {
      "cell_type": "code",
      "execution_count": 28,
      "id": "28da38ad",
      "metadata": {
        "id": "28da38ad"
      },
      "outputs": [],
      "source": [
        "pred_prob = classifier.predict_proba(x_test)\n"
      ]
    },
    {
      "cell_type": "code",
      "execution_count": 29,
      "id": "f821eda7",
      "metadata": {
        "id": "f821eda7"
      },
      "outputs": [],
      "source": [
        "from sklearn.metrics import roc_auc_score\n",
        "\n",
        "\n",
        "auc_score= roc_auc_score(y_test, pred_prob[:,1])"
      ]
    },
    {
      "cell_type": "code",
      "execution_count": 30,
      "id": "e4de5f67",
      "metadata": {
        "colab": {
          "base_uri": "https://localhost:8080/"
        },
        "id": "e4de5f67",
        "outputId": "928257f0-f848-4be8-c6f2-963ccc50664d"
      },
      "outputs": [
        {
          "data": {
            "text/plain": [
              "1.0"
            ]
          },
          "execution_count": 30,
          "metadata": {},
          "output_type": "execute_result"
        }
      ],
      "source": [
        "auc_score"
      ]
    },
    {
      "cell_type": "code",
      "execution_count": 31,
      "id": "9ec6a8c6",
      "metadata": {
        "colab": {
          "base_uri": "https://localhost:8080/"
        },
        "id": "9ec6a8c6",
        "outputId": "41704c65-6353-40c4-fa6f-d322f2010ee2"
      },
      "outputs": [
        {
          "name": "stdout",
          "output_type": "stream",
          "text": [
            "1.0\n"
          ]
        }
      ],
      "source": [
        "print(accuracy_score(y_test, y_pred))\n"
      ]
    },
    {
      "cell_type": "markdown",
      "id": "2d3360f1",
      "metadata": {
        "id": "2d3360f1"
      },
      "source": [
        "### 3.2 Use Naive Bayes to classify data. Report confusion matrix, classification report and AUC"
      ]
    },
    {
      "cell_type": "code",
      "execution_count": 32,
      "id": "131bcdbf",
      "metadata": {
        "id": "131bcdbf"
      },
      "outputs": [],
      "source": [
        "#your code\n",
        "x= df2.iloc[:, [1,2,3,4,5,6,7,8,9,10,11,12,13,14]].values  \n",
        "y= df2.iloc[:, 0].values  \n",
        "from sklearn.model_selection import train_test_split  \n",
        "x_train, x_test, y_train, y_test= train_test_split(x, y, test_size= 0.3, random_state=746)  "
      ]
    },
    {
      "cell_type": "code",
      "execution_count": 33,
      "id": "0812f5e6",
      "metadata": {
        "colab": {
          "base_uri": "https://localhost:8080/",
          "height": 74
        },
        "id": "0812f5e6",
        "outputId": "0f424d95-6992-44a0-c945-82fc9da5c1c7"
      },
      "outputs": [
        {
          "data": {
            "text/html": [
              "<style>#sk-container-id-2 {color: black;background-color: white;}#sk-container-id-2 pre{padding: 0;}#sk-container-id-2 div.sk-toggleable {background-color: white;}#sk-container-id-2 label.sk-toggleable__label {cursor: pointer;display: block;width: 100%;margin-bottom: 0;padding: 0.3em;box-sizing: border-box;text-align: center;}#sk-container-id-2 label.sk-toggleable__label-arrow:before {content: \"▸\";float: left;margin-right: 0.25em;color: #696969;}#sk-container-id-2 label.sk-toggleable__label-arrow:hover:before {color: black;}#sk-container-id-2 div.sk-estimator:hover label.sk-toggleable__label-arrow:before {color: black;}#sk-container-id-2 div.sk-toggleable__content {max-height: 0;max-width: 0;overflow: hidden;text-align: left;background-color: #f0f8ff;}#sk-container-id-2 div.sk-toggleable__content pre {margin: 0.2em;color: black;border-radius: 0.25em;background-color: #f0f8ff;}#sk-container-id-2 input.sk-toggleable__control:checked~div.sk-toggleable__content {max-height: 200px;max-width: 100%;overflow: auto;}#sk-container-id-2 input.sk-toggleable__control:checked~label.sk-toggleable__label-arrow:before {content: \"▾\";}#sk-container-id-2 div.sk-estimator input.sk-toggleable__control:checked~label.sk-toggleable__label {background-color: #d4ebff;}#sk-container-id-2 div.sk-label input.sk-toggleable__control:checked~label.sk-toggleable__label {background-color: #d4ebff;}#sk-container-id-2 input.sk-hidden--visually {border: 0;clip: rect(1px 1px 1px 1px);clip: rect(1px, 1px, 1px, 1px);height: 1px;margin: -1px;overflow: hidden;padding: 0;position: absolute;width: 1px;}#sk-container-id-2 div.sk-estimator {font-family: monospace;background-color: #f0f8ff;border: 1px dotted black;border-radius: 0.25em;box-sizing: border-box;margin-bottom: 0.5em;}#sk-container-id-2 div.sk-estimator:hover {background-color: #d4ebff;}#sk-container-id-2 div.sk-parallel-item::after {content: \"\";width: 100%;border-bottom: 1px solid gray;flex-grow: 1;}#sk-container-id-2 div.sk-label:hover label.sk-toggleable__label {background-color: #d4ebff;}#sk-container-id-2 div.sk-serial::before {content: \"\";position: absolute;border-left: 1px solid gray;box-sizing: border-box;top: 0;bottom: 0;left: 50%;z-index: 0;}#sk-container-id-2 div.sk-serial {display: flex;flex-direction: column;align-items: center;background-color: white;padding-right: 0.2em;padding-left: 0.2em;position: relative;}#sk-container-id-2 div.sk-item {position: relative;z-index: 1;}#sk-container-id-2 div.sk-parallel {display: flex;align-items: stretch;justify-content: center;background-color: white;position: relative;}#sk-container-id-2 div.sk-item::before, #sk-container-id-2 div.sk-parallel-item::before {content: \"\";position: absolute;border-left: 1px solid gray;box-sizing: border-box;top: 0;bottom: 0;left: 50%;z-index: -1;}#sk-container-id-2 div.sk-parallel-item {display: flex;flex-direction: column;z-index: 1;position: relative;background-color: white;}#sk-container-id-2 div.sk-parallel-item:first-child::after {align-self: flex-end;width: 50%;}#sk-container-id-2 div.sk-parallel-item:last-child::after {align-self: flex-start;width: 50%;}#sk-container-id-2 div.sk-parallel-item:only-child::after {width: 0;}#sk-container-id-2 div.sk-dashed-wrapped {border: 1px dashed gray;margin: 0 0.4em 0.5em 0.4em;box-sizing: border-box;padding-bottom: 0.4em;background-color: white;}#sk-container-id-2 div.sk-label label {font-family: monospace;font-weight: bold;display: inline-block;line-height: 1.2em;}#sk-container-id-2 div.sk-label-container {text-align: center;}#sk-container-id-2 div.sk-container {/* jupyter's `normalize.less` sets `[hidden] { display: none; }` but bootstrap.min.css set `[hidden] { display: none !important; }` so we also need the `!important` here to be able to override the default hidden behavior on the sphinx rendered scikit-learn.org. See: https://github.com/scikit-learn/scikit-learn/issues/21755 */display: inline-block !important;position: relative;}#sk-container-id-2 div.sk-text-repr-fallback {display: none;}</style><div id=\"sk-container-id-2\" class=\"sk-top-container\"><div class=\"sk-text-repr-fallback\"><pre>GaussianNB()</pre><b>In a Jupyter environment, please rerun this cell to show the HTML representation or trust the notebook. <br />On GitHub, the HTML representation is unable to render, please try loading this page with nbviewer.org.</b></div><div class=\"sk-container\" hidden><div class=\"sk-item\"><div class=\"sk-estimator sk-toggleable\"><input class=\"sk-toggleable__control sk-hidden--visually\" id=\"sk-estimator-id-2\" type=\"checkbox\" checked><label for=\"sk-estimator-id-2\" class=\"sk-toggleable__label sk-toggleable__label-arrow\">GaussianNB</label><div class=\"sk-toggleable__content\"><pre>GaussianNB()</pre></div></div></div></div></div>"
            ],
            "text/plain": [
              "GaussianNB()"
            ]
          },
          "execution_count": 33,
          "metadata": {},
          "output_type": "execute_result"
        }
      ],
      "source": [
        "from sklearn.naive_bayes import GaussianNB  \n",
        "classifier = GaussianNB()  \n",
        "classifier.fit(x_train, y_train)  "
      ]
    },
    {
      "cell_type": "code",
      "execution_count": 34,
      "id": "1e271356",
      "metadata": {
        "id": "1e271356"
      },
      "outputs": [],
      "source": [
        "y_pred = classifier.predict(x_test)"
      ]
    },
    {
      "cell_type": "code",
      "execution_count": 35,
      "id": "52aed042",
      "metadata": {
        "id": "52aed042"
      },
      "outputs": [],
      "source": [
        "cm= confusion_matrix(y_test, y_pred)  "
      ]
    },
    {
      "cell_type": "code",
      "execution_count": 36,
      "id": "d2ae0776",
      "metadata": {
        "colab": {
          "base_uri": "https://localhost:8080/"
        },
        "id": "d2ae0776",
        "outputId": "223244d9-28d7-4c38-caab-ac9cabde309f"
      },
      "outputs": [
        {
          "data": {
            "text/plain": [
              "array([0, 0, 0, 0, 0, 0, 0, 0, 0, 0, 0, 1, 0, 0, 0, 0, 0, 0, 0, 0, 0, 0,\n",
              "       0, 1, 0, 0, 0, 0, 0, 1, 0, 0, 0, 1, 0, 0, 1, 0, 1, 0, 0, 0, 0, 0,\n",
              "       0, 0, 0, 0, 1, 0, 1, 1, 0, 0, 0, 0, 0, 0, 0])"
            ]
          },
          "execution_count": 36,
          "metadata": {},
          "output_type": "execute_result"
        }
      ],
      "source": [
        "y_pred"
      ]
    },
    {
      "cell_type": "code",
      "execution_count": 37,
      "id": "c797b7d1",
      "metadata": {
        "colab": {
          "base_uri": "https://localhost:8080/"
        },
        "id": "c797b7d1",
        "outputId": "29b89e93-dd63-4834-ba69-1a16b32ab45c"
      },
      "outputs": [
        {
          "data": {
            "text/plain": [
              "array([[50,  0],\n",
              "       [ 0,  9]])"
            ]
          },
          "execution_count": 37,
          "metadata": {},
          "output_type": "execute_result"
        }
      ],
      "source": [
        "cm"
      ]
    },
    {
      "cell_type": "code",
      "execution_count": 38,
      "id": "da407d5e",
      "metadata": {
        "colab": {
          "base_uri": "https://localhost:8080/"
        },
        "id": "da407d5e",
        "outputId": "a93891e9-411a-4a30-982d-64f818357ed7"
      },
      "outputs": [
        {
          "name": "stdout",
          "output_type": "stream",
          "text": [
            "              precision    recall  f1-score   support\n",
            "\n",
            "           0       1.00      1.00      1.00        50\n",
            "           1       1.00      1.00      1.00         9\n",
            "\n",
            "    accuracy                           1.00        59\n",
            "   macro avg       1.00      1.00      1.00        59\n",
            "weighted avg       1.00      1.00      1.00        59\n",
            "\n"
          ]
        }
      ],
      "source": [
        "from sklearn.metrics import classification_report\n",
        "print(classification_report(y_test, y_pred))\n"
      ]
    },
    {
      "cell_type": "code",
      "execution_count": 39,
      "id": "7c27cfa8",
      "metadata": {
        "id": "7c27cfa8"
      },
      "outputs": [],
      "source": [
        "pred_prob = classifier.predict_proba(x_test)\n",
        "from sklearn.metrics import roc_auc_score\n",
        "\n",
        "\n",
        "auc_score= roc_auc_score(y_test, pred_prob[:,1])"
      ]
    },
    {
      "cell_type": "code",
      "execution_count": 40,
      "id": "c01f7624",
      "metadata": {
        "colab": {
          "base_uri": "https://localhost:8080/"
        },
        "id": "c01f7624",
        "outputId": "3b3d1c90-0db0-40b3-c9a4-2228cc569b38"
      },
      "outputs": [
        {
          "data": {
            "text/plain": [
              "1.0"
            ]
          },
          "execution_count": 40,
          "metadata": {},
          "output_type": "execute_result"
        }
      ],
      "source": [
        "auc_score"
      ]
    },
    {
      "cell_type": "code",
      "execution_count": 41,
      "id": "166862da",
      "metadata": {
        "colab": {
          "base_uri": "https://localhost:8080/"
        },
        "id": "166862da",
        "outputId": "f99ef000-3fff-4b33-8d89-57298d59c913"
      },
      "outputs": [
        {
          "name": "stdout",
          "output_type": "stream",
          "text": [
            "1.0\n"
          ]
        }
      ],
      "source": [
        "print(accuracy_score(y_test,y_pred))"
      ]
    },
    {
      "cell_type": "markdown",
      "id": "c495f2d4",
      "metadata": {
        "id": "c495f2d4"
      },
      "source": [
        "### 3.3 Use KNN to classify data. First find the optimal k and than run classification. Report confusion matrix, classification report and AUC"
      ]
    },
    {
      "cell_type": "code",
      "execution_count": 42,
      "id": "afd53354",
      "metadata": {
        "id": "afd53354"
      },
      "outputs": [],
      "source": [
        "#your code\n",
        "x= df2.iloc[:, [1,2,3,4,5,6,7,8,9,10,11,12,13,14]].values  \n",
        "y= df2.iloc[:, 0].values  \n",
        "from sklearn.model_selection import train_test_split  \n",
        "x_train, x_test, y_train, y_test= train_test_split(x, y, test_size= 0.3, random_state=746) "
      ]
    },
    {
      "cell_type": "code",
      "execution_count": 43,
      "id": "be886185",
      "metadata": {
        "colab": {
          "base_uri": "https://localhost:8080/"
        },
        "id": "be886185",
        "outputId": "6222c6ae-769d-4a28-bf28-690018e023f7",
        "scrolled": true
      },
      "outputs": [
        {
          "data": {
            "text/plain": [
              "array([[1.1000e+02, 1.9090e+02, 7.0300e+01, ..., 2.2000e+01, 2.5000e+01,\n",
              "        2.5552e+04],\n",
              "       [1.0910e+02, 1.8880e+02, 6.8800e+01, ..., 1.9000e+01, 2.5000e+01,\n",
              "        1.9045e+04],\n",
              "       [9.6300e+01, 1.7240e+02, 6.5400e+01, ..., 2.5000e+01, 3.2000e+01,\n",
              "        8.1890e+03],\n",
              "       ...,\n",
              "       [1.0040e+02, 1.8460e+02, 6.6500e+01, ..., 1.9000e+01, 2.5000e+01,\n",
              "        1.3499e+04],\n",
              "       [9.9800e+01, 1.7730e+02, 6.6300e+01, ..., 1.9000e+01, 2.5000e+01,\n",
              "        1.5250e+04],\n",
              "       [1.0790e+02, 1.8670e+02, 6.8400e+01, ..., 1.9000e+01, 2.4000e+01,\n",
              "        1.6630e+04]])"
            ]
          },
          "execution_count": 43,
          "metadata": {},
          "output_type": "execute_result"
        }
      ],
      "source": [
        "x_train"
      ]
    },
    {
      "cell_type": "code",
      "execution_count": 44,
      "id": "28f41faf",
      "metadata": {
        "colab": {
          "base_uri": "https://localhost:8080/"
        },
        "id": "28f41faf",
        "outputId": "4db28c38-48df-4c12-c3e1-2710c5ee6000"
      },
      "outputs": [
        {
          "data": {
            "text/plain": [
              "array([[1.1000e+02, 1.9090e+02, 7.0300e+01, ..., 2.2000e+01, 2.5000e+01,\n",
              "        2.5552e+04],\n",
              "       [1.0910e+02, 1.8880e+02, 6.8800e+01, ..., 1.9000e+01, 2.5000e+01,\n",
              "        1.9045e+04],\n",
              "       [9.6300e+01, 1.7240e+02, 6.5400e+01, ..., 2.5000e+01, 3.2000e+01,\n",
              "        8.1890e+03],\n",
              "       ...,\n",
              "       [1.0040e+02, 1.8460e+02, 6.6500e+01, ..., 1.9000e+01, 2.5000e+01,\n",
              "        1.3499e+04],\n",
              "       [9.9800e+01, 1.7730e+02, 6.6300e+01, ..., 1.9000e+01, 2.5000e+01,\n",
              "        1.5250e+04],\n",
              "       [1.0790e+02, 1.8670e+02, 6.8400e+01, ..., 1.9000e+01, 2.4000e+01,\n",
              "        1.6630e+04]])"
            ]
          },
          "execution_count": 44,
          "metadata": {},
          "output_type": "execute_result"
        }
      ],
      "source": [
        "x_train"
      ]
    },
    {
      "cell_type": "code",
      "execution_count": 45,
      "id": "85ba35fe",
      "metadata": {
        "colab": {
          "base_uri": "https://localhost:8080/",
          "height": 74
        },
        "id": "85ba35fe",
        "outputId": "97cadafb-f2fe-4273-e110-bd97792d5fcb"
      },
      "outputs": [
        {
          "data": {
            "text/html": [
              "<style>#sk-container-id-3 {color: black;background-color: white;}#sk-container-id-3 pre{padding: 0;}#sk-container-id-3 div.sk-toggleable {background-color: white;}#sk-container-id-3 label.sk-toggleable__label {cursor: pointer;display: block;width: 100%;margin-bottom: 0;padding: 0.3em;box-sizing: border-box;text-align: center;}#sk-container-id-3 label.sk-toggleable__label-arrow:before {content: \"▸\";float: left;margin-right: 0.25em;color: #696969;}#sk-container-id-3 label.sk-toggleable__label-arrow:hover:before {color: black;}#sk-container-id-3 div.sk-estimator:hover label.sk-toggleable__label-arrow:before {color: black;}#sk-container-id-3 div.sk-toggleable__content {max-height: 0;max-width: 0;overflow: hidden;text-align: left;background-color: #f0f8ff;}#sk-container-id-3 div.sk-toggleable__content pre {margin: 0.2em;color: black;border-radius: 0.25em;background-color: #f0f8ff;}#sk-container-id-3 input.sk-toggleable__control:checked~div.sk-toggleable__content {max-height: 200px;max-width: 100%;overflow: auto;}#sk-container-id-3 input.sk-toggleable__control:checked~label.sk-toggleable__label-arrow:before {content: \"▾\";}#sk-container-id-3 div.sk-estimator input.sk-toggleable__control:checked~label.sk-toggleable__label {background-color: #d4ebff;}#sk-container-id-3 div.sk-label input.sk-toggleable__control:checked~label.sk-toggleable__label {background-color: #d4ebff;}#sk-container-id-3 input.sk-hidden--visually {border: 0;clip: rect(1px 1px 1px 1px);clip: rect(1px, 1px, 1px, 1px);height: 1px;margin: -1px;overflow: hidden;padding: 0;position: absolute;width: 1px;}#sk-container-id-3 div.sk-estimator {font-family: monospace;background-color: #f0f8ff;border: 1px dotted black;border-radius: 0.25em;box-sizing: border-box;margin-bottom: 0.5em;}#sk-container-id-3 div.sk-estimator:hover {background-color: #d4ebff;}#sk-container-id-3 div.sk-parallel-item::after {content: \"\";width: 100%;border-bottom: 1px solid gray;flex-grow: 1;}#sk-container-id-3 div.sk-label:hover label.sk-toggleable__label {background-color: #d4ebff;}#sk-container-id-3 div.sk-serial::before {content: \"\";position: absolute;border-left: 1px solid gray;box-sizing: border-box;top: 0;bottom: 0;left: 50%;z-index: 0;}#sk-container-id-3 div.sk-serial {display: flex;flex-direction: column;align-items: center;background-color: white;padding-right: 0.2em;padding-left: 0.2em;position: relative;}#sk-container-id-3 div.sk-item {position: relative;z-index: 1;}#sk-container-id-3 div.sk-parallel {display: flex;align-items: stretch;justify-content: center;background-color: white;position: relative;}#sk-container-id-3 div.sk-item::before, #sk-container-id-3 div.sk-parallel-item::before {content: \"\";position: absolute;border-left: 1px solid gray;box-sizing: border-box;top: 0;bottom: 0;left: 50%;z-index: -1;}#sk-container-id-3 div.sk-parallel-item {display: flex;flex-direction: column;z-index: 1;position: relative;background-color: white;}#sk-container-id-3 div.sk-parallel-item:first-child::after {align-self: flex-end;width: 50%;}#sk-container-id-3 div.sk-parallel-item:last-child::after {align-self: flex-start;width: 50%;}#sk-container-id-3 div.sk-parallel-item:only-child::after {width: 0;}#sk-container-id-3 div.sk-dashed-wrapped {border: 1px dashed gray;margin: 0 0.4em 0.5em 0.4em;box-sizing: border-box;padding-bottom: 0.4em;background-color: white;}#sk-container-id-3 div.sk-label label {font-family: monospace;font-weight: bold;display: inline-block;line-height: 1.2em;}#sk-container-id-3 div.sk-label-container {text-align: center;}#sk-container-id-3 div.sk-container {/* jupyter's `normalize.less` sets `[hidden] { display: none; }` but bootstrap.min.css set `[hidden] { display: none !important; }` so we also need the `!important` here to be able to override the default hidden behavior on the sphinx rendered scikit-learn.org. See: https://github.com/scikit-learn/scikit-learn/issues/21755 */display: inline-block !important;position: relative;}#sk-container-id-3 div.sk-text-repr-fallback {display: none;}</style><div id=\"sk-container-id-3\" class=\"sk-top-container\"><div class=\"sk-text-repr-fallback\"><pre>KNeighborsClassifier()</pre><b>In a Jupyter environment, please rerun this cell to show the HTML representation or trust the notebook. <br />On GitHub, the HTML representation is unable to render, please try loading this page with nbviewer.org.</b></div><div class=\"sk-container\" hidden><div class=\"sk-item\"><div class=\"sk-estimator sk-toggleable\"><input class=\"sk-toggleable__control sk-hidden--visually\" id=\"sk-estimator-id-3\" type=\"checkbox\" checked><label for=\"sk-estimator-id-3\" class=\"sk-toggleable__label sk-toggleable__label-arrow\">KNeighborsClassifier</label><div class=\"sk-toggleable__content\"><pre>KNeighborsClassifier()</pre></div></div></div></div></div>"
            ],
            "text/plain": [
              "KNeighborsClassifier()"
            ]
          },
          "execution_count": 45,
          "metadata": {},
          "output_type": "execute_result"
        }
      ],
      "source": [
        "from sklearn.neighbors import KNeighborsClassifier  \n",
        "classifier= KNeighborsClassifier(n_neighbors=5, metric='minkowski', p=2 )  \n",
        "classifier.fit(x_train, y_train)  "
      ]
    },
    {
      "cell_type": "code",
      "execution_count": 48,
      "id": "3cfe115e",
      "metadata": {
        "id": "3cfe115e"
      },
      "outputs": [],
      "source": [
        "y_pred = classifier.predict(x_test)"
      ]
    },
    {
      "cell_type": "code",
      "execution_count": 49,
      "id": "13881261",
      "metadata": {
        "colab": {
          "base_uri": "https://localhost:8080/"
        },
        "id": "13881261",
        "outputId": "cebe566c-f865-40fc-addd-eb6c42e8c20b"
      },
      "outputs": [
        {
          "data": {
            "text/plain": [
              "array([0, 0, 0, 0, 0, 0, 0, 0, 0, 0, 0, 0, 0, 0, 0, 0, 0, 0, 0, 0, 0, 0,\n",
              "       0, 0, 0, 0, 0, 0, 0, 0, 0, 0, 0, 0, 0, 0, 0, 0, 0, 0, 0, 0, 0, 0,\n",
              "       0, 0, 0, 0, 0, 0, 0, 1, 0, 0, 0, 0, 0, 0, 0])"
            ]
          },
          "execution_count": 49,
          "metadata": {},
          "output_type": "execute_result"
        }
      ],
      "source": [
        "y_pred"
      ]
    },
    {
      "cell_type": "code",
      "execution_count": 52,
      "id": "93dce437",
      "metadata": {
        "id": "93dce437"
      },
      "outputs": [],
      "source": [
        "cm= confusion_matrix(y_test, y_pred)  "
      ]
    },
    {
      "cell_type": "code",
      "execution_count": 53,
      "id": "0670137e",
      "metadata": {
        "colab": {
          "base_uri": "https://localhost:8080/"
        },
        "id": "0670137e",
        "outputId": "fcc447b7-f869-4ffa-8b88-58f6114a515c"
      },
      "outputs": [
        {
          "data": {
            "text/plain": [
              "array([[50,  0],\n",
              "       [ 8,  1]])"
            ]
          },
          "execution_count": 53,
          "metadata": {},
          "output_type": "execute_result"
        }
      ],
      "source": [
        "cm"
      ]
    },
    {
      "cell_type": "code",
      "execution_count": 54,
      "id": "16b2f28e",
      "metadata": {
        "colab": {
          "base_uri": "https://localhost:8080/"
        },
        "id": "16b2f28e",
        "outputId": "bab40acd-aa3e-423b-e12c-8e54069e72e7"
      },
      "outputs": [
        {
          "name": "stdout",
          "output_type": "stream",
          "text": [
            "              precision    recall  f1-score   support\n",
            "\n",
            "           0       0.86      1.00      0.93        50\n",
            "           1       1.00      0.11      0.20         9\n",
            "\n",
            "    accuracy                           0.86        59\n",
            "   macro avg       0.93      0.56      0.56        59\n",
            "weighted avg       0.88      0.86      0.82        59\n",
            "\n"
          ]
        }
      ],
      "source": [
        "from sklearn.metrics import classification_report\n",
        "print(classification_report(y_test, y_pred))\n"
      ]
    },
    {
      "cell_type": "code",
      "execution_count": 55,
      "id": "756915a5",
      "metadata": {
        "id": "756915a5"
      },
      "outputs": [],
      "source": [
        "pred_prob = classifier.predict_proba(x_test)\n",
        "from sklearn.metrics import roc_auc_score\n",
        "\n",
        "\n",
        "auc_score= roc_auc_score(y_test, pred_prob[:,1])"
      ]
    },
    {
      "cell_type": "code",
      "execution_count": 56,
      "id": "73716505",
      "metadata": {
        "colab": {
          "base_uri": "https://localhost:8080/"
        },
        "id": "73716505",
        "outputId": "8255af43-ac89-46b4-a7a0-a97e3edc2053"
      },
      "outputs": [
        {
          "data": {
            "text/plain": [
              "0.7044444444444444"
            ]
          },
          "execution_count": 56,
          "metadata": {},
          "output_type": "execute_result"
        }
      ],
      "source": [
        "auc_score"
      ]
    },
    {
      "cell_type": "code",
      "execution_count": 57,
      "id": "cdb73ce3",
      "metadata": {
        "colab": {
          "base_uri": "https://localhost:8080/"
        },
        "id": "cdb73ce3",
        "outputId": "50341357-64e3-4716-c50e-6684c973d335"
      },
      "outputs": [
        {
          "name": "stdout",
          "output_type": "stream",
          "text": [
            "0.864406779661017\n"
          ]
        }
      ],
      "source": [
        "print(accuracy_score(y_test,y_pred))"
      ]
    },
    {
      "cell_type": "markdown",
      "id": "e3371eae",
      "metadata": {
        "id": "e3371eae"
      },
      "source": [
        "### 3.4 Random Forest to classify data. Report confusion matrix, classification report and AUC"
      ]
    },
    {
      "cell_type": "code",
      "execution_count": 58,
      "id": "e7b82419",
      "metadata": {
        "id": "e7b82419"
      },
      "outputs": [],
      "source": [
        "#your code\n",
        "x= df2.iloc[:, [1,2,3,4,5,6,7,8,9,10,11,12,13,14]].values  \n",
        "y= df2.iloc[:, 0].values  \n",
        "from sklearn.model_selection import train_test_split  \n",
        "x_train, x_test, y_train, y_test= train_test_split(x, y, test_size= 0.3, random_state=746) "
      ]
    },
    {
      "cell_type": "code",
      "execution_count": 59,
      "id": "10070b97",
      "metadata": {
        "colab": {
          "base_uri": "https://localhost:8080/",
          "height": 74
        },
        "id": "10070b97",
        "outputId": "24fc9785-ac61-4ba3-c9c2-2ddd11102a63"
      },
      "outputs": [
        {
          "data": {
            "text/html": [
              "<style>#sk-container-id-4 {color: black;background-color: white;}#sk-container-id-4 pre{padding: 0;}#sk-container-id-4 div.sk-toggleable {background-color: white;}#sk-container-id-4 label.sk-toggleable__label {cursor: pointer;display: block;width: 100%;margin-bottom: 0;padding: 0.3em;box-sizing: border-box;text-align: center;}#sk-container-id-4 label.sk-toggleable__label-arrow:before {content: \"▸\";float: left;margin-right: 0.25em;color: #696969;}#sk-container-id-4 label.sk-toggleable__label-arrow:hover:before {color: black;}#sk-container-id-4 div.sk-estimator:hover label.sk-toggleable__label-arrow:before {color: black;}#sk-container-id-4 div.sk-toggleable__content {max-height: 0;max-width: 0;overflow: hidden;text-align: left;background-color: #f0f8ff;}#sk-container-id-4 div.sk-toggleable__content pre {margin: 0.2em;color: black;border-radius: 0.25em;background-color: #f0f8ff;}#sk-container-id-4 input.sk-toggleable__control:checked~div.sk-toggleable__content {max-height: 200px;max-width: 100%;overflow: auto;}#sk-container-id-4 input.sk-toggleable__control:checked~label.sk-toggleable__label-arrow:before {content: \"▾\";}#sk-container-id-4 div.sk-estimator input.sk-toggleable__control:checked~label.sk-toggleable__label {background-color: #d4ebff;}#sk-container-id-4 div.sk-label input.sk-toggleable__control:checked~label.sk-toggleable__label {background-color: #d4ebff;}#sk-container-id-4 input.sk-hidden--visually {border: 0;clip: rect(1px 1px 1px 1px);clip: rect(1px, 1px, 1px, 1px);height: 1px;margin: -1px;overflow: hidden;padding: 0;position: absolute;width: 1px;}#sk-container-id-4 div.sk-estimator {font-family: monospace;background-color: #f0f8ff;border: 1px dotted black;border-radius: 0.25em;box-sizing: border-box;margin-bottom: 0.5em;}#sk-container-id-4 div.sk-estimator:hover {background-color: #d4ebff;}#sk-container-id-4 div.sk-parallel-item::after {content: \"\";width: 100%;border-bottom: 1px solid gray;flex-grow: 1;}#sk-container-id-4 div.sk-label:hover label.sk-toggleable__label {background-color: #d4ebff;}#sk-container-id-4 div.sk-serial::before {content: \"\";position: absolute;border-left: 1px solid gray;box-sizing: border-box;top: 0;bottom: 0;left: 50%;z-index: 0;}#sk-container-id-4 div.sk-serial {display: flex;flex-direction: column;align-items: center;background-color: white;padding-right: 0.2em;padding-left: 0.2em;position: relative;}#sk-container-id-4 div.sk-item {position: relative;z-index: 1;}#sk-container-id-4 div.sk-parallel {display: flex;align-items: stretch;justify-content: center;background-color: white;position: relative;}#sk-container-id-4 div.sk-item::before, #sk-container-id-4 div.sk-parallel-item::before {content: \"\";position: absolute;border-left: 1px solid gray;box-sizing: border-box;top: 0;bottom: 0;left: 50%;z-index: -1;}#sk-container-id-4 div.sk-parallel-item {display: flex;flex-direction: column;z-index: 1;position: relative;background-color: white;}#sk-container-id-4 div.sk-parallel-item:first-child::after {align-self: flex-end;width: 50%;}#sk-container-id-4 div.sk-parallel-item:last-child::after {align-self: flex-start;width: 50%;}#sk-container-id-4 div.sk-parallel-item:only-child::after {width: 0;}#sk-container-id-4 div.sk-dashed-wrapped {border: 1px dashed gray;margin: 0 0.4em 0.5em 0.4em;box-sizing: border-box;padding-bottom: 0.4em;background-color: white;}#sk-container-id-4 div.sk-label label {font-family: monospace;font-weight: bold;display: inline-block;line-height: 1.2em;}#sk-container-id-4 div.sk-label-container {text-align: center;}#sk-container-id-4 div.sk-container {/* jupyter's `normalize.less` sets `[hidden] { display: none; }` but bootstrap.min.css set `[hidden] { display: none !important; }` so we also need the `!important` here to be able to override the default hidden behavior on the sphinx rendered scikit-learn.org. See: https://github.com/scikit-learn/scikit-learn/issues/21755 */display: inline-block !important;position: relative;}#sk-container-id-4 div.sk-text-repr-fallback {display: none;}</style><div id=\"sk-container-id-4\" class=\"sk-top-container\"><div class=\"sk-text-repr-fallback\"><pre>RandomForestClassifier(criterion=&#x27;entropy&#x27;, n_estimators=10)</pre><b>In a Jupyter environment, please rerun this cell to show the HTML representation or trust the notebook. <br />On GitHub, the HTML representation is unable to render, please try loading this page with nbviewer.org.</b></div><div class=\"sk-container\" hidden><div class=\"sk-item\"><div class=\"sk-estimator sk-toggleable\"><input class=\"sk-toggleable__control sk-hidden--visually\" id=\"sk-estimator-id-4\" type=\"checkbox\" checked><label for=\"sk-estimator-id-4\" class=\"sk-toggleable__label sk-toggleable__label-arrow\">RandomForestClassifier</label><div class=\"sk-toggleable__content\"><pre>RandomForestClassifier(criterion=&#x27;entropy&#x27;, n_estimators=10)</pre></div></div></div></div></div>"
            ],
            "text/plain": [
              "RandomForestClassifier(criterion='entropy', n_estimators=10)"
            ]
          },
          "execution_count": 59,
          "metadata": {},
          "output_type": "execute_result"
        }
      ],
      "source": [
        "from sklearn.ensemble import RandomForestClassifier  \n",
        "classifier= RandomForestClassifier(n_estimators= 10, criterion=\"entropy\")  \n",
        "classifier.fit(x_train, y_train)  "
      ]
    },
    {
      "cell_type": "code",
      "execution_count": 60,
      "id": "966eebf2",
      "metadata": {
        "colab": {
          "base_uri": "https://localhost:8080/"
        },
        "id": "966eebf2",
        "outputId": "ec1d2150-ab61-4abd-b650-18e86df47301"
      },
      "outputs": [
        {
          "data": {
            "text/plain": [
              "array([[1.1000e+02, 1.9090e+02, 7.0300e+01, ..., 2.2000e+01, 2.5000e+01,\n",
              "        2.5552e+04],\n",
              "       [1.0910e+02, 1.8880e+02, 6.8800e+01, ..., 1.9000e+01, 2.5000e+01,\n",
              "        1.9045e+04],\n",
              "       [9.6300e+01, 1.7240e+02, 6.5400e+01, ..., 2.5000e+01, 3.2000e+01,\n",
              "        8.1890e+03],\n",
              "       ...,\n",
              "       [1.0040e+02, 1.8460e+02, 6.6500e+01, ..., 1.9000e+01, 2.5000e+01,\n",
              "        1.3499e+04],\n",
              "       [9.9800e+01, 1.7730e+02, 6.6300e+01, ..., 1.9000e+01, 2.5000e+01,\n",
              "        1.5250e+04],\n",
              "       [1.0790e+02, 1.8670e+02, 6.8400e+01, ..., 1.9000e+01, 2.4000e+01,\n",
              "        1.6630e+04]])"
            ]
          },
          "execution_count": 60,
          "metadata": {},
          "output_type": "execute_result"
        }
      ],
      "source": [
        "x_train"
      ]
    },
    {
      "cell_type": "code",
      "execution_count": 61,
      "id": "01ada7a8",
      "metadata": {
        "colab": {
          "base_uri": "https://localhost:8080/"
        },
        "id": "01ada7a8",
        "outputId": "c7821b67-7c7d-4d1a-e381-a287f02a7b5d"
      },
      "outputs": [
        {
          "data": {
            "text/plain": [
              "array([1, 0, 0, 0, 0, 0, 1, 0, 0, 0, 0, 0, 0, 0, 0, 1, 0, 0, 0, 0, 0, 0,\n",
              "       0, 0, 0, 0, 1, 0, 0, 0, 0, 0, 0, 0, 0, 0, 0, 0, 0, 0, 0, 0, 1, 0,\n",
              "       0, 0, 0, 0, 0, 0, 0, 0, 0, 0, 0, 0, 0, 0, 0, 0, 0, 0, 0, 0, 0, 1,\n",
              "       0, 0, 1, 0, 0, 0, 0, 0, 0, 0, 0, 0, 0, 0, 0, 0, 0, 0, 0, 0, 0, 0,\n",
              "       0, 1, 0, 0, 0, 0, 0, 1, 0, 0, 0, 0, 0, 0, 0, 0, 0, 0, 0, 0, 0, 0,\n",
              "       0, 0, 1, 0, 0, 0, 0, 0, 0, 0, 0, 0, 0, 0, 0, 0, 0, 0, 0, 1, 0, 0,\n",
              "       0, 0, 0, 0])"
            ]
          },
          "execution_count": 61,
          "metadata": {},
          "output_type": "execute_result"
        }
      ],
      "source": [
        "y_train"
      ]
    },
    {
      "cell_type": "code",
      "execution_count": 62,
      "id": "1389764e",
      "metadata": {
        "id": "1389764e"
      },
      "outputs": [],
      "source": [
        "y_pred= classifier.predict(x_test)  "
      ]
    },
    {
      "cell_type": "code",
      "execution_count": 63,
      "id": "4359f1df",
      "metadata": {
        "colab": {
          "base_uri": "https://localhost:8080/"
        },
        "id": "4359f1df",
        "outputId": "74fdf979-8ee4-4546-8596-beaecc06816b"
      },
      "outputs": [
        {
          "data": {
            "text/plain": [
              "array([0, 0, 0, 0, 0, 0, 0, 0, 0, 0, 0, 0, 0, 0, 0, 0, 0, 0, 0, 0, 0, 0,\n",
              "       0, 1, 0, 0, 0, 0, 0, 1, 0, 0, 0, 1, 0, 0, 1, 0, 0, 0, 0, 0, 0, 0,\n",
              "       0, 0, 0, 0, 1, 0, 1, 1, 0, 0, 0, 0, 0, 0, 0])"
            ]
          },
          "execution_count": 63,
          "metadata": {},
          "output_type": "execute_result"
        }
      ],
      "source": [
        "y_pred"
      ]
    },
    {
      "cell_type": "code",
      "execution_count": 64,
      "id": "f230354c",
      "metadata": {
        "colab": {
          "base_uri": "https://localhost:8080/"
        },
        "id": "f230354c",
        "outputId": "8f2b0f63-a692-43c7-c8ea-192b383c0ad8"
      },
      "outputs": [
        {
          "data": {
            "text/plain": [
              "array([[50,  0],\n",
              "       [ 2,  7]])"
            ]
          },
          "execution_count": 64,
          "metadata": {},
          "output_type": "execute_result"
        }
      ],
      "source": [
        "cm= confusion_matrix(y_test, y_pred)  \n",
        "cm"
      ]
    },
    {
      "cell_type": "code",
      "execution_count": 65,
      "id": "1532d3e6",
      "metadata": {
        "colab": {
          "base_uri": "https://localhost:8080/"
        },
        "id": "1532d3e6",
        "outputId": "4ded9970-0cbc-439c-ff3a-b264f879c670"
      },
      "outputs": [
        {
          "name": "stdout",
          "output_type": "stream",
          "text": [
            "              precision    recall  f1-score   support\n",
            "\n",
            "           0       0.96      1.00      0.98        50\n",
            "           1       1.00      0.78      0.88         9\n",
            "\n",
            "    accuracy                           0.97        59\n",
            "   macro avg       0.98      0.89      0.93        59\n",
            "weighted avg       0.97      0.97      0.96        59\n",
            "\n"
          ]
        }
      ],
      "source": [
        "from sklearn.metrics import classification_report\n",
        "print(classification_report(y_test, y_pred))"
      ]
    },
    {
      "cell_type": "code",
      "execution_count": 66,
      "id": "227f157d",
      "metadata": {
        "colab": {
          "base_uri": "https://localhost:8080/"
        },
        "id": "227f157d",
        "outputId": "8ab181b7-23f2-4104-8b2f-daa2d2578222"
      },
      "outputs": [
        {
          "data": {
            "text/plain": [
              "1.0"
            ]
          },
          "execution_count": 66,
          "metadata": {},
          "output_type": "execute_result"
        }
      ],
      "source": [
        "pred_prob = classifier.predict_proba(x_test)\n",
        "from sklearn.metrics import roc_auc_score\n",
        "\n",
        "\n",
        "auc_score = roc_auc_score(y_test, pred_prob[:,1])\n",
        "auc_score"
      ]
    },
    {
      "cell_type": "code",
      "execution_count": 67,
      "id": "45b76869",
      "metadata": {
        "colab": {
          "base_uri": "https://localhost:8080/"
        },
        "id": "45b76869",
        "outputId": "8473f58c-c126-4163-f985-7b5987c2d438"
      },
      "outputs": [
        {
          "name": "stdout",
          "output_type": "stream",
          "text": [
            "0.9661016949152542\n"
          ]
        }
      ],
      "source": [
        "print(accuracy_score(y_test,y_pred))"
      ]
    },
    {
      "cell_type": "markdown",
      "id": "2SZY13OvFLeF",
      "metadata": {
        "id": "2SZY13OvFLeF"
      },
      "source": [
        "### 5 SVM to classify data. Report confusion matrix, classification report and AUC"
      ]
    },
    {
      "cell_type": "code",
      "execution_count": 81,
      "id": "LQohi3kdFONh",
      "metadata": {
        "id": "LQohi3kdFONh"
      },
      "outputs": [],
      "source": [
        "#Import svm model\n",
        "from sklearn import svm\n",
        "\n",
        "#Create a svm Classifier\n",
        "clf = svm.SVC(kernel='linear') # Linear Kernel\n",
        "\n",
        "#Train the model using the training sets\n",
        "clf.fit(x_train, y_train)\n",
        "\n",
        "#Predict the response for test dataset\n",
        "y_pred = clf.predict(x_test)\n"
      ]
    },
    {
      "cell_type": "code",
      "execution_count": 82,
      "id": "1OY-fyxqFgBb",
      "metadata": {
        "colab": {
          "base_uri": "https://localhost:8080/"
        },
        "id": "1OY-fyxqFgBb",
        "outputId": "45e70d79-9df3-480c-8883-9524b97dd91b"
      },
      "outputs": [
        {
          "name": "stdout",
          "output_type": "stream",
          "text": [
            "Accuracy: 1.0\n"
          ]
        }
      ],
      "source": [
        "#Import scikit-learn metrics module for accuracy calculation\n",
        "from sklearn import metrics\n",
        "\n",
        "# Model Accuracy: how often is the classifier correct?\n",
        "print(\"Accuracy:\",metrics.accuracy_score(y_test, y_pred))\n"
      ]
    },
    {
      "cell_type": "code",
      "execution_count": 83,
      "id": "tVB1CWJ7Fhix",
      "metadata": {
        "colab": {
          "base_uri": "https://localhost:8080/"
        },
        "id": "tVB1CWJ7Fhix",
        "outputId": "b4f18c73-8213-48df-e568-bb9e66621940"
      },
      "outputs": [
        {
          "name": "stdout",
          "output_type": "stream",
          "text": [
            "Precision: 1.0\n",
            "Recall: 1.0\n"
          ]
        }
      ],
      "source": [
        "# Model Precision: what percentage of positive tuples are labeled as such?\n",
        "print(\"Precision:\",metrics.precision_score(y_test, y_pred))\n",
        "\n",
        "# Model Recall: what percentage of positive tuples are labelled as such?\n",
        "print(\"Recall:\",metrics.recall_score(y_test, y_pred))\n"
      ]
    },
    {
      "cell_type": "code",
      "execution_count": 86,
      "id": "eKyR-FZuFkR-",
      "metadata": {
        "colab": {
          "base_uri": "https://localhost:8080/"
        },
        "id": "eKyR-FZuFkR-",
        "outputId": "284db624-96d6-4805-bf0a-7c645b881254"
      },
      "outputs": [
        {
          "name": "stdout",
          "output_type": "stream",
          "text": [
            "Accuracy: 1.0\n",
            "Precision: 1.0\n",
            "Recall: 1.0\n",
            "F1_score: 1.0\n"
          ]
        }
      ],
      "source": [
        "from sklearn.metrics import precision_score, accuracy_score, recall_score, f1_score\n",
        "print(f\"Accuracy: {round(accuracy_score(y_test, y_pred), 2)}\") \n",
        "print(f\"Precision: {round(precision_score(y_test, y_pred), 2)}\")\n",
        "print(f\"Recall: {round(recall_score(y_test, y_pred), 2)}\")\n",
        "print(f\"F1_score: {round(f1_score(y_test, y_pred), 2)}\")\n"
      ]
    },
    {
      "cell_type": "code",
      "execution_count": 88,
      "id": "r9R6LeDRGk4x",
      "metadata": {
        "colab": {
          "base_uri": "https://localhost:8080/"
        },
        "id": "r9R6LeDRGk4x",
        "outputId": "72ea0d81-3855-4aa5-96b7-e92fe15939a4"
      },
      "outputs": [
        {
          "name": "stdout",
          "output_type": "stream",
          "text": [
            "              precision    recall  f1-score   support\n",
            "\n",
            "           0       1.00      1.00      1.00        50\n",
            "           1       1.00      1.00      1.00         9\n",
            "\n",
            "    accuracy                           1.00        59\n",
            "   macro avg       1.00      1.00      1.00        59\n",
            "weighted avg       1.00      1.00      1.00        59\n",
            "\n"
          ]
        }
      ],
      "source": [
        "print(classification_report(y_test, y_pred))\n"
      ]
    },
    {
      "cell_type": "code",
      "execution_count": 90,
      "id": "ClvltPyyFkyj",
      "metadata": {
        "colab": {
          "base_uri": "https://localhost:8080/",
          "height": 411
        },
        "id": "ClvltPyyFkyj",
        "outputId": "a71d3514-665d-40b0-8d5d-87350d2f0607"
      },
      "outputs": [
        {
          "data": {
            "image/png": "[encoded data removed]",
            "text/plain": [
              "<Figure size 600x400 with 1 Axes>"
            ]
          },
          "metadata": {},
          "output_type": "display_data"
        }
      ],
      "source": [
        "from sklearn.metrics import roc_curve\n",
        "\n",
        "fpr, tpr, thresholds = roc_curve(y_test, y_pred)\n",
        "\n",
        "plt.figure(figsize=(6,4))\n",
        "\n",
        "plt.plot(fpr, tpr, linewidth=2)\n",
        "\n",
        "plt.plot([0,1], [0,1], 'k--' )\n",
        "\n",
        "plt.rcParams['font.size'] = 12\n",
        "\n",
        "plt.title('ROC curve for Predicting a Pulsar Star classifier')\n",
        "\n",
        "plt.xlabel('False Positive Rate (1 - Specificity)')\n",
        "\n",
        "plt.ylabel('True Positive Rate (Sensitivity)')\n",
        "\n",
        "plt.show()"
      ]
    },
    {
      "cell_type": "code",
      "execution_count": 93,
      "id": "tB3N0ExSHMbw",
      "metadata": {
        "colab": {
          "base_uri": "https://localhost:8080/"
        },
        "id": "tB3N0ExSHMbw",
        "outputId": "54dc92ff-dc6f-4c08-e591-8d7a9383ed9c"
      },
      "outputs": [
        {
          "name": "stdout",
          "output_type": "stream",
          "text": [
            "ROC AUC : 1.0000\n"
          ]
        }
      ],
      "source": [
        "from sklearn.metrics import roc_auc_score\n",
        "\n",
        "ROC_AUC = roc_auc_score(y_test, y_pred)\n",
        "\n",
        "print('ROC AUC : {:.4f}'.format(ROC_AUC))\n"
      ]
    },
    {
      "cell_type": "markdown",
      "id": "739cf8a4",
      "metadata": {
        "id": "739cf8a4"
      },
      "source": [
        "Logistic Regression, naive Bayes and KNN has an accuracy of 100% while SVM has an accuracy of 85%. Comparatively, logistic regression, naive Byaes and KNN did a great job. "
      ]
    },
    {
      "cell_type": "markdown",
      "id": "9e836830-b3dd-40fe-b3f1-367528757c8a",
      "metadata": {
        "id": "9e836830-b3dd-40fe-b3f1-367528757c8a"
      },
      "source": [
        "##IMBALANCE"
      ]
    },
    {
      "cell_type": "code",
      "execution_count": 68,
      "id": "fdf64977",
      "metadata": {
        "colab": {
          "base_uri": "https://localhost:8080/"
        },
        "id": "fdf64977",
        "outputId": "67023508-0861-41c9-eb60-bd4ac70cba8e"
      },
      "outputs": [
        {
          "name": "stdout",
          "output_type": "stream",
          "text": [
            "Looking in indexes: https://pypi.org/simple, https://us-python.pkg.dev/colab-wheels/public/simple/\n",
            "Collecting imblearn\n",
            "  Downloading imblearn-0.0-py2.py3-none-any.whl (1.9 kB)\n",
            "Requirement already satisfied: imbalanced-learn in /usr/local/lib/python3.10/dist-packages (from imblearn) (0.10.1)\n",
            "Requirement already satisfied: threadpoolctl>=2.0.0 in /usr/local/lib/python3.10/dist-packages (from imbalanced-learn->imblearn) (3.1.0)\n",
            "Requirement already satisfied: joblib>=1.1.1 in /usr/local/lib/python3.10/dist-packages (from imbalanced-learn->imblearn) (1.2.0)\n",
            "Requirement already satisfied: numpy>=1.17.3 in /usr/local/lib/python3.10/dist-packages (from imbalanced-learn->imblearn) (1.22.4)\n",
            "Requirement already satisfied: scikit-learn>=1.0.2 in /usr/local/lib/python3.10/dist-packages (from imbalanced-learn->imblearn) (1.2.2)\n",
            "Requirement already satisfied: scipy>=1.3.2 in /usr/local/lib/python3.10/dist-packages (from imbalanced-learn->imblearn) (1.10.1)\n",
            "Installing collected packages: imblearn\n",
            "Successfully installed imblearn-0.0\n"
          ]
        }
      ],
      "source": [
        "pip install imblearn"
      ]
    },
    {
      "cell_type": "code",
      "execution_count": 69,
      "id": "261a9e3f",
      "metadata": {
        "id": "261a9e3f"
      },
      "outputs": [],
      "source": [
        "from imblearn.over_sampling import RandomOverSampler\n",
        "from imblearn import over_sampling\n",
        "from collections import Counter"
      ]
    },
    {
      "cell_type": "code",
      "execution_count": 70,
      "id": "a55fc86a",
      "metadata": {
        "colab": {
          "base_uri": "https://localhost:8080/"
        },
        "id": "a55fc86a",
        "outputId": "dbe489fc-cf2d-4131-cf68-9afb1d3cad68"
      },
      "outputs": [
        {
          "name": "stdout",
          "output_type": "stream",
          "text": [
            "[(0, 175), (1, 175)] (350,)\n"
          ]
        }
      ],
      "source": [
        "ros = RandomOverSampler(random_state=0)\n",
        "x_resampled,y_resampled = ros.fit_resample(x,y)\n",
        "print(sorted(Counter(y_resampled).items()),y_resampled.shape)"
      ]
    },
    {
      "cell_type": "code",
      "execution_count": 71,
      "id": "e11e91c4",
      "metadata": {
        "id": "e11e91c4"
      },
      "outputs": [],
      "source": [
        "x_resampled_train, x_resampled_test, y_resampled_train, y_resampled_test = train_test_split(x_resampled, y_resampled, test_size=0.30, random_state=746)"
      ]
    },
    {
      "cell_type": "code",
      "execution_count": 72,
      "id": "fd6b7cc5",
      "metadata": {
        "id": "fd6b7cc5"
      },
      "outputs": [],
      "source": [
        "from sklearn.ensemble import RandomForestClassifier  \n",
        "classifier= RandomForestClassifier(n_estimators= 10, criterion=\"entropy\")  \n"
      ]
    },
    {
      "cell_type": "code",
      "execution_count": 73,
      "id": "177e9853",
      "metadata": {
        "id": "177e9853"
      },
      "outputs": [],
      "source": [
        "\n",
        "mdl=classifier.fit(x_resampled_train, y_resampled_train)"
      ]
    },
    {
      "cell_type": "code",
      "execution_count": 74,
      "id": "661d33b1",
      "metadata": {
        "colab": {
          "base_uri": "https://localhost:8080/"
        },
        "id": "661d33b1",
        "outputId": "6576ba92-85dc-47b3-95a1-3f5207ced627"
      },
      "outputs": [
        {
          "name": "stdout",
          "output_type": "stream",
          "text": [
            "[[54  0]\n",
            " [ 0 51]]\n"
          ]
        }
      ],
      "source": [
        "y_pred = classifier.predict(x_resampled_test)\n",
        "\n",
        "\n",
        "S1 = confusion_matrix(y_resampled_test, y_pred)\n",
        "\n",
        "print(confusion_matrix(y_resampled_test, y_pred))"
      ]
    },
    {
      "cell_type": "code",
      "execution_count": 75,
      "id": "d879dea6",
      "metadata": {
        "colab": {
          "base_uri": "https://localhost:8080/"
        },
        "id": "d879dea6",
        "outputId": "da121506-7496-47cb-bec9-6e6b520de6bd"
      },
      "outputs": [
        {
          "name": "stdout",
          "output_type": "stream",
          "text": [
            "              precision    recall  f1-score   support\n",
            "\n",
            "           0       1.00      1.00      1.00        54\n",
            "           1       1.00      1.00      1.00        51\n",
            "\n",
            "    accuracy                           1.00       105\n",
            "   macro avg       1.00      1.00      1.00       105\n",
            "weighted avg       1.00      1.00      1.00       105\n",
            "\n"
          ]
        }
      ],
      "source": [
        "print(classification_report(y_resampled_test, y_pred))\n"
      ]
    },
    {
      "cell_type": "code",
      "execution_count": 76,
      "id": "609ae125",
      "metadata": {
        "colab": {
          "base_uri": "https://localhost:8080/"
        },
        "id": "609ae125",
        "outputId": "9bd3ecad-f713-4731-bbbc-4459320e2c48"
      },
      "outputs": [
        {
          "name": "stdout",
          "output_type": "stream",
          "text": [
            "AUC: 1.000\n"
          ]
        }
      ],
      "source": [
        "auc_score5 = roc_auc_score(y_resampled_test, y_pred)\n",
        "print('AUC: %.3f' % auc_score5)"
      ]
    },
    {
      "cell_type": "code",
      "execution_count": 77,
      "id": "f990cd64",
      "metadata": {
        "colab": {
          "base_uri": "https://localhost:8080/"
        },
        "id": "f990cd64",
        "outputId": "3aa82e27-9c22-402c-9f72-0b8b1a43a85e"
      },
      "outputs": [
        {
          "name": "stdout",
          "output_type": "stream",
          "text": [
            "1.0\n"
          ]
        }
      ],
      "source": [
        "print(accuracy_score(y_resampled_test,y_pred))"
      ]
    },
    {
      "cell_type": "code",
      "execution_count": 78,
      "id": "7627ad49",
      "metadata": {
        "colab": {
          "base_uri": "https://localhost:8080/",
          "height": 466
        },
        "id": "7627ad49",
        "outputId": "28c30b43-be96-48ad-9305-3c0fd62b25e7"
      },
      "outputs": [
        {
          "data": {
            "text/plain": [
              "[Text(0, 0.5, 'False'), Text(0, 1.5, 'True')]"
            ]
          },
          "execution_count": 78,
          "metadata": {},
          "output_type": "execute_result"
        },
        {
          "data": {
            "image/png": "[encoded data removed]",
            "text/plain": [
              "<Figure size 640x480 with 2 Axes>"
            ]
          },
          "metadata": {},
          "output_type": "display_data"
        }
      ],
      "source": [
        "S1 = sns.heatmap(S1, annot=True)\n",
        "\n",
        "S1.set_xlabel('Predicted Values')\n",
        "S1.set_ylabel('Actual Values ');\n",
        "\n",
        "\n",
        "S1.xaxis.set_ticklabels(['False','True'])\n",
        "S1.yaxis.set_ticklabels(['False','True'])"
      ]
    }
  ],
  "metadata": {
    "colab": {
      "provenance": []
    },
    "kernelspec": {
      "display_name": "Python 3",
      "language": "python",
      "name": "python3"
    },
    "language_info": {
      "codemirror_mode": {
        "name": "ipython",
        "version": 3
      },
      "file_extension": ".py",
      "mimetype": "text/x-python",
      "name": "python",
      "nbconvert_exporter": "python",
      "pygments_lexer": "ipython3",
      "version": "3.8.8"
    }
  },
  "nbformat": 4,
  "nbformat_minor": 5
}
